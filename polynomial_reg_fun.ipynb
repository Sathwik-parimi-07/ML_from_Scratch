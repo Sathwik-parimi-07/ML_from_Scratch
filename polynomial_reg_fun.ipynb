{
  "nbformat": 4,
  "nbformat_minor": 0,
  "metadata": {
    "colab": {
      "provenance": [],
      "mount_file_id": "1lAewuf1X2nwFLTQ2V5FfickDxu2eG1Su",
      "authorship_tag": "ABX9TyM6g9oZMeEI+BobQ3HKQVjp",
      "include_colab_link": true
    },
    "kernelspec": {
      "name": "python3",
      "display_name": "Python 3"
    },
    "language_info": {
      "name": "python"
    }
  },
  "cells": [
    {
      "cell_type": "markdown",
      "metadata": {
        "id": "view-in-github",
        "colab_type": "text"
      },
      "source": [
        "<a href=\"https://colab.research.google.com/github/Sathwik-parimi-07/woc/blob/main/polynomial_reg_fun.ipynb\" target=\"_parent\"><img src=\"https://colab.research.google.com/assets/colab-badge.svg\" alt=\"Open In Colab\"/></a>"
      ]
    },
    {
      "cell_type": "code",
      "execution_count": null,
      "metadata": {
        "id": "9dR_ffACZHZG"
      },
      "outputs": [],
      "source": [
        "import numpy as np\n",
        "import pandas as pd\n",
        "import matplotlib.pyplot as pp\n"
      ]
    },
    {
      "cell_type": "code",
      "source": [
        "data =pd.read_csv(r'/content/drive/MyDrive/woc drive/polynomial_regression_train.csv')"
      ],
      "metadata": {
        "id": "o_pd2zvIZl2Q"
      },
      "execution_count": null,
      "outputs": []
    },
    {
      "cell_type": "code",
      "source": [
        "data = (data - data.mean())/data.std()"
      ],
      "metadata": {
        "id": "9cv3zpuLZ2Xe"
      },
      "execution_count": null,
      "outputs": []
    },
    {
      "cell_type": "code",
      "source": [
        "data.info()\n",
        "data.head()"
      ],
      "metadata": {
        "colab": {
          "base_uri": "https://localhost:8080/",
          "height": 460
        },
        "id": "qsY11Yk8Z8xV",
        "outputId": "254fe25f-fee4-4241-d64a-599d1c8a24f7"
      },
      "execution_count": null,
      "outputs": [
        {
          "output_type": "stream",
          "name": "stdout",
          "text": [
            "<class 'pandas.core.frame.DataFrame'>\n",
            "RangeIndex: 48000 entries, 0 to 47999\n",
            "Data columns (total 7 columns):\n",
            " #   Column     Non-Null Count  Dtype  \n",
            "---  ------     --------------  -----  \n",
            " 0   ID         48000 non-null  float64\n",
            " 1   Feature_1  48000 non-null  float64\n",
            " 2   Feature_2  48000 non-null  float64\n",
            " 3   Feature_3  48000 non-null  float64\n",
            " 4   Feature_4  48000 non-null  float64\n",
            " 5   Feature_5  48000 non-null  float64\n",
            " 6   Target     48000 non-null  float64\n",
            "dtypes: float64(7)\n",
            "memory usage: 2.6 MB\n"
          ]
        },
        {
          "output_type": "execute_result",
          "data": {
            "text/plain": [
              "         ID  Feature_1  Feature_2  Feature_3  Feature_4  Feature_5    Target\n",
              "0 -1.731997  -0.271458   0.850615  -1.080839   0.363526  -0.301199  0.107086\n",
              "1 -1.731925  -0.336490  -1.021567   0.531296   0.046763   0.600729 -0.016961\n",
              "2 -1.731852  -1.085796  -0.119573  -0.003585   0.421652  -0.206247  0.073303\n",
              "3 -1.731780  -0.384559  -1.493354  -0.087116   0.775618   0.280888 -0.217256\n",
              "4 -1.731708  -1.506180   1.687317   1.103569  -0.411579   0.915984 -1.565257"
            ],
            "text/html": [
              "\n",
              "  <div id=\"df-d2883856-acbd-4abc-8770-5066e0a7907c\" class=\"colab-df-container\">\n",
              "    <div>\n",
              "<style scoped>\n",
              "    .dataframe tbody tr th:only-of-type {\n",
              "        vertical-align: middle;\n",
              "    }\n",
              "\n",
              "    .dataframe tbody tr th {\n",
              "        vertical-align: top;\n",
              "    }\n",
              "\n",
              "    .dataframe thead th {\n",
              "        text-align: right;\n",
              "    }\n",
              "</style>\n",
              "<table border=\"1\" class=\"dataframe\">\n",
              "  <thead>\n",
              "    <tr style=\"text-align: right;\">\n",
              "      <th></th>\n",
              "      <th>ID</th>\n",
              "      <th>Feature_1</th>\n",
              "      <th>Feature_2</th>\n",
              "      <th>Feature_3</th>\n",
              "      <th>Feature_4</th>\n",
              "      <th>Feature_5</th>\n",
              "      <th>Target</th>\n",
              "    </tr>\n",
              "  </thead>\n",
              "  <tbody>\n",
              "    <tr>\n",
              "      <th>0</th>\n",
              "      <td>-1.731997</td>\n",
              "      <td>-0.271458</td>\n",
              "      <td>0.850615</td>\n",
              "      <td>-1.080839</td>\n",
              "      <td>0.363526</td>\n",
              "      <td>-0.301199</td>\n",
              "      <td>0.107086</td>\n",
              "    </tr>\n",
              "    <tr>\n",
              "      <th>1</th>\n",
              "      <td>-1.731925</td>\n",
              "      <td>-0.336490</td>\n",
              "      <td>-1.021567</td>\n",
              "      <td>0.531296</td>\n",
              "      <td>0.046763</td>\n",
              "      <td>0.600729</td>\n",
              "      <td>-0.016961</td>\n",
              "    </tr>\n",
              "    <tr>\n",
              "      <th>2</th>\n",
              "      <td>-1.731852</td>\n",
              "      <td>-1.085796</td>\n",
              "      <td>-0.119573</td>\n",
              "      <td>-0.003585</td>\n",
              "      <td>0.421652</td>\n",
              "      <td>-0.206247</td>\n",
              "      <td>0.073303</td>\n",
              "    </tr>\n",
              "    <tr>\n",
              "      <th>3</th>\n",
              "      <td>-1.731780</td>\n",
              "      <td>-0.384559</td>\n",
              "      <td>-1.493354</td>\n",
              "      <td>-0.087116</td>\n",
              "      <td>0.775618</td>\n",
              "      <td>0.280888</td>\n",
              "      <td>-0.217256</td>\n",
              "    </tr>\n",
              "    <tr>\n",
              "      <th>4</th>\n",
              "      <td>-1.731708</td>\n",
              "      <td>-1.506180</td>\n",
              "      <td>1.687317</td>\n",
              "      <td>1.103569</td>\n",
              "      <td>-0.411579</td>\n",
              "      <td>0.915984</td>\n",
              "      <td>-1.565257</td>\n",
              "    </tr>\n",
              "  </tbody>\n",
              "</table>\n",
              "</div>\n",
              "    <div class=\"colab-df-buttons\">\n",
              "\n",
              "  <div class=\"colab-df-container\">\n",
              "    <button class=\"colab-df-convert\" onclick=\"convertToInteractive('df-d2883856-acbd-4abc-8770-5066e0a7907c')\"\n",
              "            title=\"Convert this dataframe to an interactive table.\"\n",
              "            style=\"display:none;\">\n",
              "\n",
              "  <svg xmlns=\"http://www.w3.org/2000/svg\" height=\"24px\" viewBox=\"0 -960 960 960\">\n",
              "    <path d=\"M120-120v-720h720v720H120Zm60-500h600v-160H180v160Zm220 220h160v-160H400v160Zm0 220h160v-160H400v160ZM180-400h160v-160H180v160Zm440 0h160v-160H620v160ZM180-180h160v-160H180v160Zm440 0h160v-160H620v160Z\"/>\n",
              "  </svg>\n",
              "    </button>\n",
              "\n",
              "  <style>\n",
              "    .colab-df-container {\n",
              "      display:flex;\n",
              "      gap: 12px;\n",
              "    }\n",
              "\n",
              "    .colab-df-convert {\n",
              "      background-color: #E8F0FE;\n",
              "      border: none;\n",
              "      border-radius: 50%;\n",
              "      cursor: pointer;\n",
              "      display: none;\n",
              "      fill: #1967D2;\n",
              "      height: 32px;\n",
              "      padding: 0 0 0 0;\n",
              "      width: 32px;\n",
              "    }\n",
              "\n",
              "    .colab-df-convert:hover {\n",
              "      background-color: #E2EBFA;\n",
              "      box-shadow: 0px 1px 2px rgba(60, 64, 67, 0.3), 0px 1px 3px 1px rgba(60, 64, 67, 0.15);\n",
              "      fill: #174EA6;\n",
              "    }\n",
              "\n",
              "    .colab-df-buttons div {\n",
              "      margin-bottom: 4px;\n",
              "    }\n",
              "\n",
              "    [theme=dark] .colab-df-convert {\n",
              "      background-color: #3B4455;\n",
              "      fill: #D2E3FC;\n",
              "    }\n",
              "\n",
              "    [theme=dark] .colab-df-convert:hover {\n",
              "      background-color: #434B5C;\n",
              "      box-shadow: 0px 1px 3px 1px rgba(0, 0, 0, 0.15);\n",
              "      filter: drop-shadow(0px 1px 2px rgba(0, 0, 0, 0.3));\n",
              "      fill: #FFFFFF;\n",
              "    }\n",
              "  </style>\n",
              "\n",
              "    <script>\n",
              "      const buttonEl =\n",
              "        document.querySelector('#df-d2883856-acbd-4abc-8770-5066e0a7907c button.colab-df-convert');\n",
              "      buttonEl.style.display =\n",
              "        google.colab.kernel.accessAllowed ? 'block' : 'none';\n",
              "\n",
              "      async function convertToInteractive(key) {\n",
              "        const element = document.querySelector('#df-d2883856-acbd-4abc-8770-5066e0a7907c');\n",
              "        const dataTable =\n",
              "          await google.colab.kernel.invokeFunction('convertToInteractive',\n",
              "                                                    [key], {});\n",
              "        if (!dataTable) return;\n",
              "\n",
              "        const docLinkHtml = 'Like what you see? Visit the ' +\n",
              "          '<a target=\"_blank\" href=https://colab.research.google.com/notebooks/data_table.ipynb>data table notebook</a>'\n",
              "          + ' to learn more about interactive tables.';\n",
              "        element.innerHTML = '';\n",
              "        dataTable['output_type'] = 'display_data';\n",
              "        await google.colab.output.renderOutput(dataTable, element);\n",
              "        const docLink = document.createElement('div');\n",
              "        docLink.innerHTML = docLinkHtml;\n",
              "        element.appendChild(docLink);\n",
              "      }\n",
              "    </script>\n",
              "  </div>\n",
              "\n",
              "\n",
              "<div id=\"df-73feceea-cbd5-4745-b944-0c104fd0334a\">\n",
              "  <button class=\"colab-df-quickchart\" onclick=\"quickchart('df-73feceea-cbd5-4745-b944-0c104fd0334a')\"\n",
              "            title=\"Suggest charts\"\n",
              "            style=\"display:none;\">\n",
              "\n",
              "<svg xmlns=\"http://www.w3.org/2000/svg\" height=\"24px\"viewBox=\"0 0 24 24\"\n",
              "     width=\"24px\">\n",
              "    <g>\n",
              "        <path d=\"M19 3H5c-1.1 0-2 .9-2 2v14c0 1.1.9 2 2 2h14c1.1 0 2-.9 2-2V5c0-1.1-.9-2-2-2zM9 17H7v-7h2v7zm4 0h-2V7h2v10zm4 0h-2v-4h2v4z\"/>\n",
              "    </g>\n",
              "</svg>\n",
              "  </button>\n",
              "\n",
              "<style>\n",
              "  .colab-df-quickchart {\n",
              "      --bg-color: #E8F0FE;\n",
              "      --fill-color: #1967D2;\n",
              "      --hover-bg-color: #E2EBFA;\n",
              "      --hover-fill-color: #174EA6;\n",
              "      --disabled-fill-color: #AAA;\n",
              "      --disabled-bg-color: #DDD;\n",
              "  }\n",
              "\n",
              "  [theme=dark] .colab-df-quickchart {\n",
              "      --bg-color: #3B4455;\n",
              "      --fill-color: #D2E3FC;\n",
              "      --hover-bg-color: #434B5C;\n",
              "      --hover-fill-color: #FFFFFF;\n",
              "      --disabled-bg-color: #3B4455;\n",
              "      --disabled-fill-color: #666;\n",
              "  }\n",
              "\n",
              "  .colab-df-quickchart {\n",
              "    background-color: var(--bg-color);\n",
              "    border: none;\n",
              "    border-radius: 50%;\n",
              "    cursor: pointer;\n",
              "    display: none;\n",
              "    fill: var(--fill-color);\n",
              "    height: 32px;\n",
              "    padding: 0;\n",
              "    width: 32px;\n",
              "  }\n",
              "\n",
              "  .colab-df-quickchart:hover {\n",
              "    background-color: var(--hover-bg-color);\n",
              "    box-shadow: 0 1px 2px rgba(60, 64, 67, 0.3), 0 1px 3px 1px rgba(60, 64, 67, 0.15);\n",
              "    fill: var(--button-hover-fill-color);\n",
              "  }\n",
              "\n",
              "  .colab-df-quickchart-complete:disabled,\n",
              "  .colab-df-quickchart-complete:disabled:hover {\n",
              "    background-color: var(--disabled-bg-color);\n",
              "    fill: var(--disabled-fill-color);\n",
              "    box-shadow: none;\n",
              "  }\n",
              "\n",
              "  .colab-df-spinner {\n",
              "    border: 2px solid var(--fill-color);\n",
              "    border-color: transparent;\n",
              "    border-bottom-color: var(--fill-color);\n",
              "    animation:\n",
              "      spin 1s steps(1) infinite;\n",
              "  }\n",
              "\n",
              "  @keyframes spin {\n",
              "    0% {\n",
              "      border-color: transparent;\n",
              "      border-bottom-color: var(--fill-color);\n",
              "      border-left-color: var(--fill-color);\n",
              "    }\n",
              "    20% {\n",
              "      border-color: transparent;\n",
              "      border-left-color: var(--fill-color);\n",
              "      border-top-color: var(--fill-color);\n",
              "    }\n",
              "    30% {\n",
              "      border-color: transparent;\n",
              "      border-left-color: var(--fill-color);\n",
              "      border-top-color: var(--fill-color);\n",
              "      border-right-color: var(--fill-color);\n",
              "    }\n",
              "    40% {\n",
              "      border-color: transparent;\n",
              "      border-right-color: var(--fill-color);\n",
              "      border-top-color: var(--fill-color);\n",
              "    }\n",
              "    60% {\n",
              "      border-color: transparent;\n",
              "      border-right-color: var(--fill-color);\n",
              "    }\n",
              "    80% {\n",
              "      border-color: transparent;\n",
              "      border-right-color: var(--fill-color);\n",
              "      border-bottom-color: var(--fill-color);\n",
              "    }\n",
              "    90% {\n",
              "      border-color: transparent;\n",
              "      border-bottom-color: var(--fill-color);\n",
              "    }\n",
              "  }\n",
              "</style>\n",
              "\n",
              "  <script>\n",
              "    async function quickchart(key) {\n",
              "      const quickchartButtonEl =\n",
              "        document.querySelector('#' + key + ' button');\n",
              "      quickchartButtonEl.disabled = true;  // To prevent multiple clicks.\n",
              "      quickchartButtonEl.classList.add('colab-df-spinner');\n",
              "      try {\n",
              "        const charts = await google.colab.kernel.invokeFunction(\n",
              "            'suggestCharts', [key], {});\n",
              "      } catch (error) {\n",
              "        console.error('Error during call to suggestCharts:', error);\n",
              "      }\n",
              "      quickchartButtonEl.classList.remove('colab-df-spinner');\n",
              "      quickchartButtonEl.classList.add('colab-df-quickchart-complete');\n",
              "    }\n",
              "    (() => {\n",
              "      let quickchartButtonEl =\n",
              "        document.querySelector('#df-73feceea-cbd5-4745-b944-0c104fd0334a button');\n",
              "      quickchartButtonEl.style.display =\n",
              "        google.colab.kernel.accessAllowed ? 'block' : 'none';\n",
              "    })();\n",
              "  </script>\n",
              "</div>\n",
              "\n",
              "    </div>\n",
              "  </div>\n"
            ],
            "application/vnd.google.colaboratory.intrinsic+json": {
              "type": "dataframe",
              "variable_name": "data",
              "summary": "{\n  \"name\": \"data\",\n  \"rows\": 48000,\n  \"fields\": [\n    {\n      \"column\": \"ID\",\n      \"properties\": {\n        \"dtype\": \"number\",\n        \"std\": 0.999999999999998,\n        \"min\": -1.7319966816389183,\n        \"max\": 1.7319966816389183,\n        \"num_unique_values\": 48000,\n        \"samples\": [\n          0.6330218918309036,\n          1.1195065948842151,\n          1.4131583166946178\n        ],\n        \"semantic_type\": \"\",\n        \"description\": \"\"\n      }\n    },\n    {\n      \"column\": \"Feature_1\",\n      \"properties\": {\n        \"dtype\": \"number\",\n        \"std\": 0.9999999999999983,\n        \"min\": -1.7428100406223266,\n        \"max\": 1.7173171138743037,\n        \"num_unique_values\": 48000,\n        \"samples\": [\n          1.0051110440381852,\n          -0.24258900548209988,\n          -0.0940937584728783\n        ],\n        \"semantic_type\": \"\",\n        \"description\": \"\"\n      }\n    },\n    {\n      \"column\": \"Feature_2\",\n      \"properties\": {\n        \"dtype\": \"number\",\n        \"std\": 0.9999999999999967,\n        \"min\": -1.7323286584378201,\n        \"max\": 1.7341726597329084,\n        \"num_unique_values\": 48000,\n        \"samples\": [\n          0.6917321568806608,\n          -0.08745588103920687,\n          -0.5653062228425303\n        ],\n        \"semantic_type\": \"\",\n        \"description\": \"\"\n      }\n    },\n    {\n      \"column\": \"Feature_3\",\n      \"properties\": {\n        \"dtype\": \"number\",\n        \"std\": 0.9999999999999923,\n        \"min\": -1.7352687611921038,\n        \"max\": 1.7309453246695443,\n        \"num_unique_values\": 48000,\n        \"samples\": [\n          -1.2891430858927262,\n          1.0101409921617908,\n          -0.8799659167462901\n        ],\n        \"semantic_type\": \"\",\n        \"description\": \"\"\n      }\n    },\n    {\n      \"column\": \"Feature_4\",\n      \"properties\": {\n        \"dtype\": \"number\",\n        \"std\": 1.0000000000000047,\n        \"min\": -1.7322200930562002,\n        \"max\": 1.7307926954374908,\n        \"num_unique_values\": 48000,\n        \"samples\": [\n          1.6569105979384988,\n          1.6626912788221597,\n          0.020643466219859952\n        ],\n        \"semantic_type\": \"\",\n        \"description\": \"\"\n      }\n    },\n    {\n      \"column\": \"Feature_5\",\n      \"properties\": {\n        \"dtype\": \"number\",\n        \"std\": 0.9999999999999979,\n        \"min\": -1.7308092668260366,\n        \"max\": 1.7398662602521624,\n        \"num_unique_values\": 48000,\n        \"samples\": [\n          -1.0766836386388574,\n          1.2876355713266578,\n          -1.5785200240258872\n        ],\n        \"semantic_type\": \"\",\n        \"description\": \"\"\n      }\n    },\n    {\n      \"column\": \"Target\",\n      \"properties\": {\n        \"dtype\": \"number\",\n        \"std\": 0.9999999999999991,\n        \"min\": -12.37212986477336,\n        \"max\": 9.950649343752671,\n        \"num_unique_values\": 48000,\n        \"samples\": [\n          -0.6423341356649067,\n          -0.4591482940719316,\n          -0.46565330600664795\n        ],\n        \"semantic_type\": \"\",\n        \"description\": \"\"\n      }\n    }\n  ]\n}"
            }
          },
          "metadata": {},
          "execution_count": 294
        }
      ]
    },
    {
      "cell_type": "code",
      "source": [
        "data.describe()"
      ],
      "metadata": {
        "colab": {
          "base_uri": "https://localhost:8080/",
          "height": 300
        },
        "id": "ng27FjBpZ9jL",
        "outputId": "b6278d3f-718b-4a0e-b263-48ff3dd936dc"
      },
      "execution_count": null,
      "outputs": [
        {
          "output_type": "execute_result",
          "data": {
            "text/plain": [
              "                 ID     Feature_1     Feature_2     Feature_3     Feature_4  \\\n",
              "count  4.800000e+04  4.800000e+04  4.800000e+04  4.800000e+04  4.800000e+04   \n",
              "mean  -3.789561e-17  9.325873e-18 -3.759955e-17 -3.215946e-17  1.480297e-17   \n",
              "std    1.000000e+00  1.000000e+00  1.000000e+00  1.000000e+00  1.000000e+00   \n",
              "min   -1.731997e+00 -1.742810e+00 -1.732329e+00 -1.735269e+00 -1.732220e+00   \n",
              "25%   -8.659983e-01 -8.655547e-01 -8.671055e-01 -8.627531e-01 -8.670125e-01   \n",
              "50%    0.000000e+00  9.882506e-03 -1.764944e-03  2.619075e-03  3.149584e-03   \n",
              "75%    8.659983e-01  8.659267e-01  8.635133e-01  8.669746e-01  8.632330e-01   \n",
              "max    1.731997e+00  1.717317e+00  1.734173e+00  1.730945e+00  1.730793e+00   \n",
              "\n",
              "          Feature_5        Target  \n",
              "count  4.800000e+04  4.800000e+04  \n",
              "mean  -1.598721e-17  6.217249e-18  \n",
              "std    1.000000e+00  1.000000e+00  \n",
              "min   -1.730809e+00 -1.237213e+01  \n",
              "25%   -8.707606e-01 -3.841146e-01  \n",
              "50%    8.645808e-04  3.463697e-03  \n",
              "75%    8.628138e-01  3.244534e-01  \n",
              "max    1.739866e+00  9.950649e+00  "
            ],
            "text/html": [
              "\n",
              "  <div id=\"df-136c0ca0-a3a6-4bd2-b5b7-44bb871cbd56\" class=\"colab-df-container\">\n",
              "    <div>\n",
              "<style scoped>\n",
              "    .dataframe tbody tr th:only-of-type {\n",
              "        vertical-align: middle;\n",
              "    }\n",
              "\n",
              "    .dataframe tbody tr th {\n",
              "        vertical-align: top;\n",
              "    }\n",
              "\n",
              "    .dataframe thead th {\n",
              "        text-align: right;\n",
              "    }\n",
              "</style>\n",
              "<table border=\"1\" class=\"dataframe\">\n",
              "  <thead>\n",
              "    <tr style=\"text-align: right;\">\n",
              "      <th></th>\n",
              "      <th>ID</th>\n",
              "      <th>Feature_1</th>\n",
              "      <th>Feature_2</th>\n",
              "      <th>Feature_3</th>\n",
              "      <th>Feature_4</th>\n",
              "      <th>Feature_5</th>\n",
              "      <th>Target</th>\n",
              "    </tr>\n",
              "  </thead>\n",
              "  <tbody>\n",
              "    <tr>\n",
              "      <th>count</th>\n",
              "      <td>4.800000e+04</td>\n",
              "      <td>4.800000e+04</td>\n",
              "      <td>4.800000e+04</td>\n",
              "      <td>4.800000e+04</td>\n",
              "      <td>4.800000e+04</td>\n",
              "      <td>4.800000e+04</td>\n",
              "      <td>4.800000e+04</td>\n",
              "    </tr>\n",
              "    <tr>\n",
              "      <th>mean</th>\n",
              "      <td>-3.789561e-17</td>\n",
              "      <td>9.325873e-18</td>\n",
              "      <td>-3.759955e-17</td>\n",
              "      <td>-3.215946e-17</td>\n",
              "      <td>1.480297e-17</td>\n",
              "      <td>-1.598721e-17</td>\n",
              "      <td>6.217249e-18</td>\n",
              "    </tr>\n",
              "    <tr>\n",
              "      <th>std</th>\n",
              "      <td>1.000000e+00</td>\n",
              "      <td>1.000000e+00</td>\n",
              "      <td>1.000000e+00</td>\n",
              "      <td>1.000000e+00</td>\n",
              "      <td>1.000000e+00</td>\n",
              "      <td>1.000000e+00</td>\n",
              "      <td>1.000000e+00</td>\n",
              "    </tr>\n",
              "    <tr>\n",
              "      <th>min</th>\n",
              "      <td>-1.731997e+00</td>\n",
              "      <td>-1.742810e+00</td>\n",
              "      <td>-1.732329e+00</td>\n",
              "      <td>-1.735269e+00</td>\n",
              "      <td>-1.732220e+00</td>\n",
              "      <td>-1.730809e+00</td>\n",
              "      <td>-1.237213e+01</td>\n",
              "    </tr>\n",
              "    <tr>\n",
              "      <th>25%</th>\n",
              "      <td>-8.659983e-01</td>\n",
              "      <td>-8.655547e-01</td>\n",
              "      <td>-8.671055e-01</td>\n",
              "      <td>-8.627531e-01</td>\n",
              "      <td>-8.670125e-01</td>\n",
              "      <td>-8.707606e-01</td>\n",
              "      <td>-3.841146e-01</td>\n",
              "    </tr>\n",
              "    <tr>\n",
              "      <th>50%</th>\n",
              "      <td>0.000000e+00</td>\n",
              "      <td>9.882506e-03</td>\n",
              "      <td>-1.764944e-03</td>\n",
              "      <td>2.619075e-03</td>\n",
              "      <td>3.149584e-03</td>\n",
              "      <td>8.645808e-04</td>\n",
              "      <td>3.463697e-03</td>\n",
              "    </tr>\n",
              "    <tr>\n",
              "      <th>75%</th>\n",
              "      <td>8.659983e-01</td>\n",
              "      <td>8.659267e-01</td>\n",
              "      <td>8.635133e-01</td>\n",
              "      <td>8.669746e-01</td>\n",
              "      <td>8.632330e-01</td>\n",
              "      <td>8.628138e-01</td>\n",
              "      <td>3.244534e-01</td>\n",
              "    </tr>\n",
              "    <tr>\n",
              "      <th>max</th>\n",
              "      <td>1.731997e+00</td>\n",
              "      <td>1.717317e+00</td>\n",
              "      <td>1.734173e+00</td>\n",
              "      <td>1.730945e+00</td>\n",
              "      <td>1.730793e+00</td>\n",
              "      <td>1.739866e+00</td>\n",
              "      <td>9.950649e+00</td>\n",
              "    </tr>\n",
              "  </tbody>\n",
              "</table>\n",
              "</div>\n",
              "    <div class=\"colab-df-buttons\">\n",
              "\n",
              "  <div class=\"colab-df-container\">\n",
              "    <button class=\"colab-df-convert\" onclick=\"convertToInteractive('df-136c0ca0-a3a6-4bd2-b5b7-44bb871cbd56')\"\n",
              "            title=\"Convert this dataframe to an interactive table.\"\n",
              "            style=\"display:none;\">\n",
              "\n",
              "  <svg xmlns=\"http://www.w3.org/2000/svg\" height=\"24px\" viewBox=\"0 -960 960 960\">\n",
              "    <path d=\"M120-120v-720h720v720H120Zm60-500h600v-160H180v160Zm220 220h160v-160H400v160Zm0 220h160v-160H400v160ZM180-400h160v-160H180v160Zm440 0h160v-160H620v160ZM180-180h160v-160H180v160Zm440 0h160v-160H620v160Z\"/>\n",
              "  </svg>\n",
              "    </button>\n",
              "\n",
              "  <style>\n",
              "    .colab-df-container {\n",
              "      display:flex;\n",
              "      gap: 12px;\n",
              "    }\n",
              "\n",
              "    .colab-df-convert {\n",
              "      background-color: #E8F0FE;\n",
              "      border: none;\n",
              "      border-radius: 50%;\n",
              "      cursor: pointer;\n",
              "      display: none;\n",
              "      fill: #1967D2;\n",
              "      height: 32px;\n",
              "      padding: 0 0 0 0;\n",
              "      width: 32px;\n",
              "    }\n",
              "\n",
              "    .colab-df-convert:hover {\n",
              "      background-color: #E2EBFA;\n",
              "      box-shadow: 0px 1px 2px rgba(60, 64, 67, 0.3), 0px 1px 3px 1px rgba(60, 64, 67, 0.15);\n",
              "      fill: #174EA6;\n",
              "    }\n",
              "\n",
              "    .colab-df-buttons div {\n",
              "      margin-bottom: 4px;\n",
              "    }\n",
              "\n",
              "    [theme=dark] .colab-df-convert {\n",
              "      background-color: #3B4455;\n",
              "      fill: #D2E3FC;\n",
              "    }\n",
              "\n",
              "    [theme=dark] .colab-df-convert:hover {\n",
              "      background-color: #434B5C;\n",
              "      box-shadow: 0px 1px 3px 1px rgba(0, 0, 0, 0.15);\n",
              "      filter: drop-shadow(0px 1px 2px rgba(0, 0, 0, 0.3));\n",
              "      fill: #FFFFFF;\n",
              "    }\n",
              "  </style>\n",
              "\n",
              "    <script>\n",
              "      const buttonEl =\n",
              "        document.querySelector('#df-136c0ca0-a3a6-4bd2-b5b7-44bb871cbd56 button.colab-df-convert');\n",
              "      buttonEl.style.display =\n",
              "        google.colab.kernel.accessAllowed ? 'block' : 'none';\n",
              "\n",
              "      async function convertToInteractive(key) {\n",
              "        const element = document.querySelector('#df-136c0ca0-a3a6-4bd2-b5b7-44bb871cbd56');\n",
              "        const dataTable =\n",
              "          await google.colab.kernel.invokeFunction('convertToInteractive',\n",
              "                                                    [key], {});\n",
              "        if (!dataTable) return;\n",
              "\n",
              "        const docLinkHtml = 'Like what you see? Visit the ' +\n",
              "          '<a target=\"_blank\" href=https://colab.research.google.com/notebooks/data_table.ipynb>data table notebook</a>'\n",
              "          + ' to learn more about interactive tables.';\n",
              "        element.innerHTML = '';\n",
              "        dataTable['output_type'] = 'display_data';\n",
              "        await google.colab.output.renderOutput(dataTable, element);\n",
              "        const docLink = document.createElement('div');\n",
              "        docLink.innerHTML = docLinkHtml;\n",
              "        element.appendChild(docLink);\n",
              "      }\n",
              "    </script>\n",
              "  </div>\n",
              "\n",
              "\n",
              "<div id=\"df-ae2c4e9d-5174-41d8-8b54-5de1ac69c41b\">\n",
              "  <button class=\"colab-df-quickchart\" onclick=\"quickchart('df-ae2c4e9d-5174-41d8-8b54-5de1ac69c41b')\"\n",
              "            title=\"Suggest charts\"\n",
              "            style=\"display:none;\">\n",
              "\n",
              "<svg xmlns=\"http://www.w3.org/2000/svg\" height=\"24px\"viewBox=\"0 0 24 24\"\n",
              "     width=\"24px\">\n",
              "    <g>\n",
              "        <path d=\"M19 3H5c-1.1 0-2 .9-2 2v14c0 1.1.9 2 2 2h14c1.1 0 2-.9 2-2V5c0-1.1-.9-2-2-2zM9 17H7v-7h2v7zm4 0h-2V7h2v10zm4 0h-2v-4h2v4z\"/>\n",
              "    </g>\n",
              "</svg>\n",
              "  </button>\n",
              "\n",
              "<style>\n",
              "  .colab-df-quickchart {\n",
              "      --bg-color: #E8F0FE;\n",
              "      --fill-color: #1967D2;\n",
              "      --hover-bg-color: #E2EBFA;\n",
              "      --hover-fill-color: #174EA6;\n",
              "      --disabled-fill-color: #AAA;\n",
              "      --disabled-bg-color: #DDD;\n",
              "  }\n",
              "\n",
              "  [theme=dark] .colab-df-quickchart {\n",
              "      --bg-color: #3B4455;\n",
              "      --fill-color: #D2E3FC;\n",
              "      --hover-bg-color: #434B5C;\n",
              "      --hover-fill-color: #FFFFFF;\n",
              "      --disabled-bg-color: #3B4455;\n",
              "      --disabled-fill-color: #666;\n",
              "  }\n",
              "\n",
              "  .colab-df-quickchart {\n",
              "    background-color: var(--bg-color);\n",
              "    border: none;\n",
              "    border-radius: 50%;\n",
              "    cursor: pointer;\n",
              "    display: none;\n",
              "    fill: var(--fill-color);\n",
              "    height: 32px;\n",
              "    padding: 0;\n",
              "    width: 32px;\n",
              "  }\n",
              "\n",
              "  .colab-df-quickchart:hover {\n",
              "    background-color: var(--hover-bg-color);\n",
              "    box-shadow: 0 1px 2px rgba(60, 64, 67, 0.3), 0 1px 3px 1px rgba(60, 64, 67, 0.15);\n",
              "    fill: var(--button-hover-fill-color);\n",
              "  }\n",
              "\n",
              "  .colab-df-quickchart-complete:disabled,\n",
              "  .colab-df-quickchart-complete:disabled:hover {\n",
              "    background-color: var(--disabled-bg-color);\n",
              "    fill: var(--disabled-fill-color);\n",
              "    box-shadow: none;\n",
              "  }\n",
              "\n",
              "  .colab-df-spinner {\n",
              "    border: 2px solid var(--fill-color);\n",
              "    border-color: transparent;\n",
              "    border-bottom-color: var(--fill-color);\n",
              "    animation:\n",
              "      spin 1s steps(1) infinite;\n",
              "  }\n",
              "\n",
              "  @keyframes spin {\n",
              "    0% {\n",
              "      border-color: transparent;\n",
              "      border-bottom-color: var(--fill-color);\n",
              "      border-left-color: var(--fill-color);\n",
              "    }\n",
              "    20% {\n",
              "      border-color: transparent;\n",
              "      border-left-color: var(--fill-color);\n",
              "      border-top-color: var(--fill-color);\n",
              "    }\n",
              "    30% {\n",
              "      border-color: transparent;\n",
              "      border-left-color: var(--fill-color);\n",
              "      border-top-color: var(--fill-color);\n",
              "      border-right-color: var(--fill-color);\n",
              "    }\n",
              "    40% {\n",
              "      border-color: transparent;\n",
              "      border-right-color: var(--fill-color);\n",
              "      border-top-color: var(--fill-color);\n",
              "    }\n",
              "    60% {\n",
              "      border-color: transparent;\n",
              "      border-right-color: var(--fill-color);\n",
              "    }\n",
              "    80% {\n",
              "      border-color: transparent;\n",
              "      border-right-color: var(--fill-color);\n",
              "      border-bottom-color: var(--fill-color);\n",
              "    }\n",
              "    90% {\n",
              "      border-color: transparent;\n",
              "      border-bottom-color: var(--fill-color);\n",
              "    }\n",
              "  }\n",
              "</style>\n",
              "\n",
              "  <script>\n",
              "    async function quickchart(key) {\n",
              "      const quickchartButtonEl =\n",
              "        document.querySelector('#' + key + ' button');\n",
              "      quickchartButtonEl.disabled = true;  // To prevent multiple clicks.\n",
              "      quickchartButtonEl.classList.add('colab-df-spinner');\n",
              "      try {\n",
              "        const charts = await google.colab.kernel.invokeFunction(\n",
              "            'suggestCharts', [key], {});\n",
              "      } catch (error) {\n",
              "        console.error('Error during call to suggestCharts:', error);\n",
              "      }\n",
              "      quickchartButtonEl.classList.remove('colab-df-spinner');\n",
              "      quickchartButtonEl.classList.add('colab-df-quickchart-complete');\n",
              "    }\n",
              "    (() => {\n",
              "      let quickchartButtonEl =\n",
              "        document.querySelector('#df-ae2c4e9d-5174-41d8-8b54-5de1ac69c41b button');\n",
              "      quickchartButtonEl.style.display =\n",
              "        google.colab.kernel.accessAllowed ? 'block' : 'none';\n",
              "    })();\n",
              "  </script>\n",
              "</div>\n",
              "\n",
              "    </div>\n",
              "  </div>\n"
            ],
            "application/vnd.google.colaboratory.intrinsic+json": {
              "type": "dataframe",
              "summary": "{\n  \"name\": \"data\",\n  \"rows\": 8,\n  \"fields\": [\n    {\n      \"column\": \"ID\",\n      \"properties\": {\n        \"dtype\": \"number\",\n        \"std\": 16970.512276023,\n        \"min\": -1.7319966816389183,\n        \"max\": 48000.0,\n        \"num_unique_values\": 8,\n        \"samples\": [\n          -3.789561257387201e-17,\n          0.0,\n          48000.0\n        ],\n        \"semantic_type\": \"\",\n        \"description\": \"\"\n      }\n    },\n    {\n      \"column\": \"Feature_1\",\n      \"properties\": {\n        \"dtype\": \"number\",\n        \"std\": 16970.51304563831,\n        \"min\": -1.7428100406223266,\n        \"max\": 48000.0,\n        \"num_unique_values\": 8,\n        \"samples\": [\n          9.325873406851316e-18,\n          0.0098825060963495,\n          48000.0\n        ],\n        \"semantic_type\": \"\",\n        \"description\": \"\"\n      }\n    },\n    {\n      \"column\": \"Feature_2\",\n      \"properties\": {\n        \"dtype\": \"number\",\n        \"std\": 16970.512453496518,\n        \"min\": -1.7323286584378201,\n        \"max\": 48000.0,\n        \"num_unique_values\": 8,\n        \"samples\": [\n          -3.7599553100638635e-17,\n          -0.0017649435627529859,\n          48000.0\n        ],\n        \"semantic_type\": \"\",\n        \"description\": \"\"\n      }\n    },\n    {\n      \"column\": \"Feature_3\",\n      \"properties\": {\n        \"dtype\": \"number\",\n        \"std\": 16970.512148902002,\n        \"min\": -1.7352687611921038,\n        \"max\": 48000.0,\n        \"num_unique_values\": 8,\n        \"samples\": [\n          -3.215946027997537e-17,\n          0.002619074663412757,\n          48000.0\n        ],\n        \"semantic_type\": \"\",\n        \"description\": \"\"\n      }\n    },\n    {\n      \"column\": \"Feature_4\",\n      \"properties\": {\n        \"dtype\": \"number\",\n        \"std\": 16970.51237990935,\n        \"min\": -1.7322200930562002,\n        \"max\": 48000.0,\n        \"num_unique_values\": 8,\n        \"samples\": [\n          1.4802973661668754e-17,\n          0.0031495836671066855,\n          48000.0\n        ],\n        \"semantic_type\": \"\",\n        \"description\": \"\"\n      }\n    },\n    {\n      \"column\": \"Feature_5\",\n      \"properties\": {\n        \"dtype\": \"number\",\n        \"std\": 16970.51217638563,\n        \"min\": -1.7308092668260366,\n        \"max\": 48000.0,\n        \"num_unique_values\": 8,\n        \"samples\": [\n          -1.5987211554602253e-17,\n          0.0008645807897808335,\n          48000.0\n        ],\n        \"semantic_type\": \"\",\n        \"description\": \"\"\n      }\n    },\n    {\n      \"column\": \"Target\",\n      \"properties\": {\n        \"dtype\": \"number\",\n        \"std\": 16970.63844745774,\n        \"min\": -12.37212986477336,\n        \"max\": 48000.0,\n        \"num_unique_values\": 8,\n        \"samples\": [\n          6.217248937900877e-18,\n          0.003463697218199996,\n          48000.0\n        ],\n        \"semantic_type\": \"\",\n        \"description\": \"\"\n      }\n    }\n  ]\n}"
            }
          },
          "metadata": {},
          "execution_count": 295
        }
      ]
    },
    {
      "cell_type": "code",
      "source": [
        "data2=data.drop(columns=['ID'],axis=1)"
      ],
      "metadata": {
        "id": "MWCNrm9NafSS"
      },
      "execution_count": null,
      "outputs": []
    },
    {
      "cell_type": "code",
      "source": [
        "m , n = data.shape\n",
        "n=n-2   #since i have removed column 'ID' and 'labels'(not needed to be used)"
      ],
      "metadata": {
        "id": "mIfvUzO6dXHJ"
      },
      "execution_count": null,
      "outputs": []
    },
    {
      "cell_type": "code",
      "source": [
        "X=data2.iloc[:,:-1]\n",
        "y=data2.iloc[:,-1]"
      ],
      "metadata": {
        "id": "axlw5PD5aTt6"
      },
      "execution_count": null,
      "outputs": []
    },
    {
      "cell_type": "code",
      "source": [
        "y = y.to_frame()\n",
        "y.shape"
      ],
      "metadata": {
        "colab": {
          "base_uri": "https://localhost:8080/"
        },
        "id": "3h4lERseg266",
        "outputId": "4383ac68-660a-4395-b135-7e61045ce808"
      },
      "execution_count": null,
      "outputs": [
        {
          "output_type": "execute_result",
          "data": {
            "text/plain": [
              "(48000, 1)"
            ]
          },
          "metadata": {},
          "execution_count": 299
        }
      ]
    },
    {
      "cell_type": "code",
      "source": [
        "X_sq = np.multiply(X,X)\n",
        "print(X_sq.shape)\n",
        "X_cube=np.multiply(X,X_sq)\n",
        "print(X_cube.shape)"
      ],
      "metadata": {
        "colab": {
          "base_uri": "https://localhost:8080/"
        },
        "id": "i6v6s2QdbD87",
        "outputId": "a774066b-6517-4e33-9624-9dc09eb525a2"
      },
      "execution_count": null,
      "outputs": [
        {
          "output_type": "stream",
          "name": "stdout",
          "text": [
            "(48000, 5)\n",
            "(48000, 5)\n"
          ]
        }
      ]
    },
    {
      "cell_type": "code",
      "source": [
        "X = np.concatenate((X,X_sq),axis = 1)\n",
        "print(X.shape)"
      ],
      "metadata": {
        "colab": {
          "base_uri": "https://localhost:8080/"
        },
        "id": "16_E8Gxhc6B3",
        "outputId": "35fbf6a4-3c19-4528-b28e-13eb23eae97c"
      },
      "execution_count": null,
      "outputs": [
        {
          "output_type": "stream",
          "name": "stdout",
          "text": [
            "(48000, 10)\n"
          ]
        }
      ]
    },
    {
      "cell_type": "code",
      "source": [
        "X=np.concatenate((X,X_cube),axis=1)\n",
        "print(X.shape)"
      ],
      "metadata": {
        "colab": {
          "base_uri": "https://localhost:8080/"
        },
        "id": "g3p_y_B9C0J5",
        "outputId": "bb6a60be-cd9f-4714-d029-0ccb58e334ea"
      },
      "execution_count": null,
      "outputs": [
        {
          "output_type": "stream",
          "name": "stdout",
          "text": [
            "(48000, 15)\n"
          ]
        }
      ]
    },
    {
      "cell_type": "code",
      "source": [
        "m=X.shape[0] #due to RAM issue"
      ],
      "metadata": {
        "id": "uvDwimnlDIOj"
      },
      "execution_count": null,
      "outputs": []
    },
    {
      "cell_type": "code",
      "source": [
        "z = np.ones((m,1))  #dont forget to replace m after here\n",
        "print(z.shape)"
      ],
      "metadata": {
        "colab": {
          "base_uri": "https://localhost:8080/"
        },
        "id": "pfbg96rddDp6",
        "outputId": "b1d59d60-5636-4fb1-ff75-80ecc444e4aa"
      },
      "execution_count": null,
      "outputs": [
        {
          "output_type": "stream",
          "name": "stdout",
          "text": [
            "(48000, 1)\n"
          ]
        }
      ]
    },
    {
      "cell_type": "code",
      "source": [
        "X = np.concatenate((z,X),axis = 1)\n",
        "print(X.shape)\n"
      ],
      "metadata": {
        "colab": {
          "base_uri": "https://localhost:8080/"
        },
        "id": "8CUavLHwdpsB",
        "outputId": "acb94dfe-5969-4365-f774-2ef2a31f6eed"
      },
      "execution_count": null,
      "outputs": [
        {
          "output_type": "stream",
          "name": "stdout",
          "text": [
            "(48000, 16)\n"
          ]
        }
      ]
    },
    {
      "cell_type": "code",
      "source": [
        "m,n = X.shape\n",
        "n = n -1\n",
        "print(m,n)\n",
        "print(m,n)"
      ],
      "metadata": {
        "colab": {
          "base_uri": "https://localhost:8080/"
        },
        "id": "Q52LWYz-dyY4",
        "outputId": "922c5a44-72c1-4803-d303-6b8865b4af6c"
      },
      "execution_count": null,
      "outputs": [
        {
          "output_type": "stream",
          "name": "stdout",
          "text": [
            "48000 15\n",
            "48000 15\n"
          ]
        }
      ]
    },
    {
      "cell_type": "code",
      "source": [
        "theta = np.zeros((n+1,1))\n",
        "b=0\n",
        "print(theta.shape)"
      ],
      "metadata": {
        "colab": {
          "base_uri": "https://localhost:8080/"
        },
        "id": "x8EFbaM3eDkO",
        "outputId": "02d39eee-458d-462f-aff7-7f6800307d12"
      },
      "execution_count": null,
      "outputs": [
        {
          "output_type": "stream",
          "name": "stdout",
          "text": [
            "(16, 1)\n"
          ]
        }
      ]
    },
    {
      "cell_type": "code",
      "source": [
        "import matplotlib.pyplot as plt\n",
        "\n",
        "cost_history = []\n",
        "\n",
        "# Gradient Descent Loop\n",
        "for i in range(40000):\n",
        "    h = np.dot(X, theta)+b  # Prediction\n",
        "    er = h - y  # Error term\n",
        "    delta = (np.dot(X.T, er)) / m  # Gradient\n",
        "    theta = theta - 0.001 * delta  # Update theta\n",
        "    J = (1 / (2 * m)) * (np.sum(np.multiply(er, er)))  # Cost function\n",
        "\n",
        "\n",
        "    cost_history.append(J)\n",
        "\n",
        "\n",
        "print(f\"Final cost (J): {J}\")\n",
        "print(f\"Optimized theta: {theta}\")"
      ],
      "metadata": {
        "colab": {
          "base_uri": "https://localhost:8080/"
        },
        "id": "wuUPFdynvsgz",
        "outputId": "dc25ed83-3a8c-4acd-a0b2-67f8bb3e8684"
      },
      "execution_count": null,
      "outputs": [
        {
          "output_type": "stream",
          "name": "stdout",
          "text": [
            "Final cost (J): Target    0.37993\n",
            "dtype: float64\n",
            "Optimized theta: [[ 0.02578469]\n",
            " [ 0.08953212]\n",
            " [ 0.0074886 ]\n",
            " [ 0.07082571]\n",
            " [ 0.0379053 ]\n",
            " [-0.02987144]\n",
            " [ 0.3804946 ]\n",
            " [-0.1978739 ]\n",
            " [ 0.0812509 ]\n",
            " [-0.04171157]\n",
            " [-0.24755517]\n",
            " [ 0.01874279]\n",
            " [ 0.00160821]\n",
            " [ 0.03734203]\n",
            " [ 0.01949   ]\n",
            " [ 0.02667653]]\n"
          ]
        }
      ]
    },
    {
      "cell_type": "code",
      "source": [
        "# Plot the learning curve\n",
        "plt.plot(range(40000), cost_history)\n",
        "plt.xlabel('Iterations')\n",
        "plt.ylabel('Cost (J)')\n",
        "plt.title('Learning Curve (Cost vs. Iterations)')\n",
        "plt.show()"
      ],
      "metadata": {
        "colab": {
          "base_uri": "https://localhost:8080/",
          "height": 487
        },
        "id": "JGd4ggiYglIg",
        "outputId": "6f93df78-c5af-410c-a047-62175bd548bc"
      },
      "execution_count": null,
      "outputs": [
        {
          "output_type": "display_data",
          "data": {
            "text/plain": [
              "<Figure size 640x480 with 1 Axes>"
            ],
            "image/png": "[encoded data removed]"
          },
          "metadata": {}
        }
      ]
    },
    {
      "cell_type": "code",
      "source": [
        "##testing the data"
      ],
      "metadata": {
        "id": "JHh64KKZxMjF"
      },
      "execution_count": null,
      "outputs": []
    },
    {
      "cell_type": "code",
      "source": [
        "theta"
      ],
      "metadata": {
        "colab": {
          "base_uri": "https://localhost:8080/"
        },
        "id": "Mi0UAhgr_E7N",
        "outputId": "a1ac0a38-a198-4a2e-88bc-b62b4a4f12f8"
      },
      "execution_count": null,
      "outputs": [
        {
          "output_type": "execute_result",
          "data": {
            "text/plain": [
              "array([[ 0.02578414],\n",
              "       [ 0.08953168],\n",
              "       [ 0.00748849],\n",
              "       [ 0.07082538],\n",
              "       [ 0.03790517],\n",
              "       [-0.02987117],\n",
              "       [ 0.38049471],\n",
              "       [-0.1978738 ],\n",
              "       [ 0.081251  ],\n",
              "       [-0.04171147],\n",
              "       [-0.24755508],\n",
              "       [ 0.018743  ],\n",
              "       [ 0.00160827],\n",
              "       [ 0.03734219],\n",
              "       [ 0.01949006],\n",
              "       [ 0.0266764 ]])"
            ]
          },
          "metadata": {},
          "execution_count": 346
        }
      ]
    },
    {
      "cell_type": "code",
      "source": [
        "X_test=data2.iloc[:10,:-1].values\n",
        "y_test=data2.iloc[:10,-1].values"
      ],
      "metadata": {
        "id": "mg8rcKcDxO_2"
      },
      "execution_count": null,
      "outputs": []
    },
    {
      "cell_type": "code",
      "source": [
        "X_sq_test = np.multiply(X_test, X_test)  # Square of original features\n",
        "X_cube_test = np.multiply(X_test, X_sq_test)  # Cube of original features\n",
        "\n",
        "# Concatenate all terms (original, square, cube) only once\n",
        "X_test = np.concatenate((X_test, X_sq_test, X_cube_test), axis=1)"
      ],
      "metadata": {
        "id": "UO0i-U7M6-28"
      },
      "execution_count": null,
      "outputs": []
    },
    {
      "cell_type": "code",
      "source": [
        "m_train=X_test.shape[0]\n",
        "z = np.ones((m_train,1))\n",
        "print(z.shape)\n"
      ],
      "metadata": {
        "colab": {
          "base_uri": "https://localhost:8080/"
        },
        "id": "mvSd_af_7TiW",
        "outputId": "0c2d35d3-f678-4746-9815-7f539d6b8770"
      },
      "execution_count": null,
      "outputs": [
        {
          "output_type": "stream",
          "name": "stdout",
          "text": [
            "(10, 1)\n"
          ]
        }
      ]
    },
    {
      "cell_type": "code",
      "source": [
        "\n",
        "X_test = np.concatenate((z,X_test),axis = 1)\n",
        "print(X_test.shape)\n"
      ],
      "metadata": {
        "colab": {
          "base_uri": "https://localhost:8080/"
        },
        "id": "KaW6_DNp7rkZ",
        "outputId": "34c71130-e213-4ff5-9cd0-374b8ef51c6c"
      },
      "execution_count": null,
      "outputs": [
        {
          "output_type": "stream",
          "name": "stdout",
          "text": [
            "(10, 16)\n"
          ]
        }
      ]
    },
    {
      "cell_type": "code",
      "source": [
        "y_pred= np.dot(X_test,theta)"
      ],
      "metadata": {
        "id": "8xRdUzuL51AJ"
      },
      "execution_count": null,
      "outputs": []
    },
    {
      "cell_type": "code",
      "source": [
        "def r2_score(y_true, y_pred):\n",
        "\n",
        "    # Compute the total sum of squares (variance of the true values)\n",
        "    ss_total = np.sum((y_true - np.mean(y_true)) ** 2)\n",
        "\n",
        "    # Compute the residual sum of squares\n",
        "    ss_residual = np.sum((y_true - y_pred) ** 2)\n",
        "\n",
        "    # Calculate the R² score\n",
        "    r2 = 1 - (ss_residual / ss_total)\n",
        "\n",
        "    return r2"
      ],
      "metadata": {
        "id": "fKWHqGGZ6QkJ"
      },
      "execution_count": null,
      "outputs": []
    },
    {
      "cell_type": "code",
      "source": [
        "h_test = np.dot(X_test,theta)\n",
        "err = h_test - y_test\n",
        "print(h_test[:10,:])\n",
        "print(y_test[:10])\n",
        "J = (1/(2*10000))*(np.sum(np.multiply(err,err)))\n",
        "print(J)\n",
        "sq_error = np.sum(err**2)\n",
        "rmse = np.sqrt(sq_error/10000)\n",
        "print()\n",
        "print('RMSE = ',rmse)"
      ],
      "metadata": {
        "colab": {
          "base_uri": "https://localhost:8080/"
        },
        "id": "RTuulwDw-Ib_",
        "outputId": "f39b0d3c-fe3f-455f-c270-aeeb582704a2"
      },
      "execution_count": null,
      "outputs": [
        {
          "output_type": "stream",
          "name": "stdout",
          "text": [
            "[[-0.14043667]\n",
            " [-0.21149015]\n",
            " [ 0.35460728]\n",
            " [-0.43076884]\n",
            " [ 0.13579018]\n",
            " [-0.24263412]\n",
            " [-0.81260132]\n",
            " [-0.02541413]\n",
            " [-0.30578687]\n",
            " [-0.33242299]]\n",
            "[ 0.1070864  -0.01696098  0.07330262 -0.21725572 -1.56525734 -0.00177034\n",
            " -0.66696552  0.35945844 -0.09123899 -0.88337677]\n",
            "0.0020137358251019304\n",
            "\n",
            "RMSE =  0.06346236404518714\n"
          ]
        }
      ]
    },
    {
      "cell_type": "code",
      "source": [
        "# Example data\n",
        "y_true = y_test\n",
        "y_pred = h_test\n",
        "\n",
        "# Calculate R² score\n",
        "r2 = r2_score(y_true, y_pred)\n",
        "print(\"R² Score:\", r2)          #-12.27281963720005"
      ],
      "metadata": {
        "colab": {
          "base_uri": "https://localhost:8080/"
        },
        "id": "-2hJFoD26RbN",
        "outputId": "18206b4f-ae72-4e3a-8c08-5e95d5432f1b"
      },
      "execution_count": null,
      "outputs": [
        {
          "output_type": "stream",
          "name": "stdout",
          "text": [
            "R² Score: -12.272858835583037\n"
          ]
        }
      ]
    },
    {
      "cell_type": "code",
      "source": [],
      "metadata": {
        "id": "QnHUjSex-52C"
      },
      "execution_count": null,
      "outputs": []
    }
  ]
}