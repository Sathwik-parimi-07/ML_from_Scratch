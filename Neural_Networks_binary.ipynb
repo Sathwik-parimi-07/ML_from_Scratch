{
  "nbformat": 4,
  "nbformat_minor": 0,
  "metadata": {
    "colab": {
      "provenance": [],
      "authorship_tag": "ABX9TyNeMge4CS0EItjp1AoRseKw",
      "include_colab_link": true
    },
    "kernelspec": {
      "name": "python3",
      "display_name": "Python 3"
    },
    "language_info": {
      "name": "python"
    }
  },
  "cells": [
    {
      "cell_type": "markdown",
      "metadata": {
        "id": "view-in-github",
        "colab_type": "text"
      },
      "source": [
        "<a href=\"https://colab.research.google.com/github/Sathwik-parimi-07/woc/blob/main/Neural_Networks_binary.ipynb\" target=\"_parent\"><img src=\"https://colab.research.google.com/assets/colab-badge.svg\" alt=\"Open In Colab\"/></a>"
      ]
    },
    {
      "cell_type": "code",
      "execution_count": null,
      "metadata": {
        "id": "HjKLWf_S3-8N"
      },
      "outputs": [],
      "source": [
        "import numpy as np\n",
        "import pandas as pd\n",
        "import matplotlib.pyplot as plt"
      ]
    },
    {
      "cell_type": "code",
      "source": [
        "from google.colab import drive\n",
        "drive.mount('/content/drive')"
      ],
      "metadata": {
        "colab": {
          "base_uri": "https://localhost:8080/"
        },
        "id": "BW-n_EZf4LT2",
        "outputId": "33897da2-4a6a-4e1c-8b54-044cd9865ab7"
      },
      "execution_count": null,
      "outputs": [
        {
          "output_type": "stream",
          "name": "stdout",
          "text": [
            "Mounted at /content/drive\n"
          ]
        }
      ]
    },
    {
      "cell_type": "code",
      "source": [
        "data=pd.read_csv(r'/content/drive/MyDrive/woc drive/nn_train.csv')"
      ],
      "metadata": {
        "id": "OCjB8_Pq4UAb"
      },
      "execution_count": null,
      "outputs": []
    },
    {
      "cell_type": "code",
      "source": [
        "data.info()\n",
        "data.head() #all features in numerical values, no categorical data to encode"
      ],
      "metadata": {
        "colab": {
          "base_uri": "https://localhost:8080/",
          "height": 346
        },
        "id": "KCAudJip4gEN",
        "outputId": "34b4557c-9c6c-40c4-fef7-b711608b1163"
      },
      "execution_count": null,
      "outputs": [
        {
          "output_type": "stream",
          "name": "stdout",
          "text": [
            "<class 'pandas.core.frame.DataFrame'>\n",
            "RangeIndex: 80000 entries, 0 to 79999\n",
            "Columns: 1027 entries, ID to class_label\n",
            "dtypes: int64(1027)\n",
            "memory usage: 626.8 MB\n"
          ]
        },
        {
          "output_type": "execute_result",
          "data": {
            "text/plain": [
              "   ID  Feature_1  Feature_2  Feature_3  Feature_4  Feature_5  Feature_6  \\\n",
              "0   1         81        109         91         96        107         97   \n",
              "1   2        168        168        169        169        170        171   \n",
              "2   3         14         20         32          6         27          6   \n",
              "3   4         60        109        157        126         82         80   \n",
              "4   5         63         72         86         75         93         77   \n",
              "\n",
              "   Feature_7  Feature_8  Feature_9  ...  Feature_1017  Feature_1018  \\\n",
              "0        103         95        100  ...           114            93   \n",
              "1        172        172        175  ...            44            44   \n",
              "2          5         34         15  ...            63            64   \n",
              "3         70         58         37  ...           105           102   \n",
              "4         75         67         62  ...           108           109   \n",
              "\n",
              "   Feature_1019  Feature_1020  Feature_1021  Feature_1022  Feature_1023  \\\n",
              "0            91            98            72            92            78   \n",
              "1            44            44            44            44            44   \n",
              "2            63            60            54            48            43   \n",
              "3            99            98           100           105           111   \n",
              "4           102           106            96            91           102   \n",
              "\n",
              "   Feature_1024  binary_label  class_label  \n",
              "0            78             0            5  \n",
              "1            44             0            9  \n",
              "2            41             0            5  \n",
              "3           114             1            8  \n",
              "4            89             0            5  \n",
              "\n",
              "[5 rows x 1027 columns]"
            ],
            "text/html": [
              "\n",
              "  <div id=\"df-e61aa3d3-f722-4d80-a7a9-85eff3a09ef7\" class=\"colab-df-container\">\n",
              "    <div>\n",
              "<style scoped>\n",
              "    .dataframe tbody tr th:only-of-type {\n",
              "        vertical-align: middle;\n",
              "    }\n",
              "\n",
              "    .dataframe tbody tr th {\n",
              "        vertical-align: top;\n",
              "    }\n",
              "\n",
              "    .dataframe thead th {\n",
              "        text-align: right;\n",
              "    }\n",
              "</style>\n",
              "<table border=\"1\" class=\"dataframe\">\n",
              "  <thead>\n",
              "    <tr style=\"text-align: right;\">\n",
              "      <th></th>\n",
              "      <th>ID</th>\n",
              "      <th>Feature_1</th>\n",
              "      <th>Feature_2</th>\n",
              "      <th>Feature_3</th>\n",
              "      <th>Feature_4</th>\n",
              "      <th>Feature_5</th>\n",
              "      <th>Feature_6</th>\n",
              "      <th>Feature_7</th>\n",
              "      <th>Feature_8</th>\n",
              "      <th>Feature_9</th>\n",
              "      <th>...</th>\n",
              "      <th>Feature_1017</th>\n",
              "      <th>Feature_1018</th>\n",
              "      <th>Feature_1019</th>\n",
              "      <th>Feature_1020</th>\n",
              "      <th>Feature_1021</th>\n",
              "      <th>Feature_1022</th>\n",
              "      <th>Feature_1023</th>\n",
              "      <th>Feature_1024</th>\n",
              "      <th>binary_label</th>\n",
              "      <th>class_label</th>\n",
              "    </tr>\n",
              "  </thead>\n",
              "  <tbody>\n",
              "    <tr>\n",
              "      <th>0</th>\n",
              "      <td>1</td>\n",
              "      <td>81</td>\n",
              "      <td>109</td>\n",
              "      <td>91</td>\n",
              "      <td>96</td>\n",
              "      <td>107</td>\n",
              "      <td>97</td>\n",
              "      <td>103</td>\n",
              "      <td>95</td>\n",
              "      <td>100</td>\n",
              "      <td>...</td>\n",
              "      <td>114</td>\n",
              "      <td>93</td>\n",
              "      <td>91</td>\n",
              "      <td>98</td>\n",
              "      <td>72</td>\n",
              "      <td>92</td>\n",
              "      <td>78</td>\n",
              "      <td>78</td>\n",
              "      <td>0</td>\n",
              "      <td>5</td>\n",
              "    </tr>\n",
              "    <tr>\n",
              "      <th>1</th>\n",
              "      <td>2</td>\n",
              "      <td>168</td>\n",
              "      <td>168</td>\n",
              "      <td>169</td>\n",
              "      <td>169</td>\n",
              "      <td>170</td>\n",
              "      <td>171</td>\n",
              "      <td>172</td>\n",
              "      <td>172</td>\n",
              "      <td>175</td>\n",
              "      <td>...</td>\n",
              "      <td>44</td>\n",
              "      <td>44</td>\n",
              "      <td>44</td>\n",
              "      <td>44</td>\n",
              "      <td>44</td>\n",
              "      <td>44</td>\n",
              "      <td>44</td>\n",
              "      <td>44</td>\n",
              "      <td>0</td>\n",
              "      <td>9</td>\n",
              "    </tr>\n",
              "    <tr>\n",
              "      <th>2</th>\n",
              "      <td>3</td>\n",
              "      <td>14</td>\n",
              "      <td>20</td>\n",
              "      <td>32</td>\n",
              "      <td>6</td>\n",
              "      <td>27</td>\n",
              "      <td>6</td>\n",
              "      <td>5</td>\n",
              "      <td>34</td>\n",
              "      <td>15</td>\n",
              "      <td>...</td>\n",
              "      <td>63</td>\n",
              "      <td>64</td>\n",
              "      <td>63</td>\n",
              "      <td>60</td>\n",
              "      <td>54</td>\n",
              "      <td>48</td>\n",
              "      <td>43</td>\n",
              "      <td>41</td>\n",
              "      <td>0</td>\n",
              "      <td>5</td>\n",
              "    </tr>\n",
              "    <tr>\n",
              "      <th>3</th>\n",
              "      <td>4</td>\n",
              "      <td>60</td>\n",
              "      <td>109</td>\n",
              "      <td>157</td>\n",
              "      <td>126</td>\n",
              "      <td>82</td>\n",
              "      <td>80</td>\n",
              "      <td>70</td>\n",
              "      <td>58</td>\n",
              "      <td>37</td>\n",
              "      <td>...</td>\n",
              "      <td>105</td>\n",
              "      <td>102</td>\n",
              "      <td>99</td>\n",
              "      <td>98</td>\n",
              "      <td>100</td>\n",
              "      <td>105</td>\n",
              "      <td>111</td>\n",
              "      <td>114</td>\n",
              "      <td>1</td>\n",
              "      <td>8</td>\n",
              "    </tr>\n",
              "    <tr>\n",
              "      <th>4</th>\n",
              "      <td>5</td>\n",
              "      <td>63</td>\n",
              "      <td>72</td>\n",
              "      <td>86</td>\n",
              "      <td>75</td>\n",
              "      <td>93</td>\n",
              "      <td>77</td>\n",
              "      <td>75</td>\n",
              "      <td>67</td>\n",
              "      <td>62</td>\n",
              "      <td>...</td>\n",
              "      <td>108</td>\n",
              "      <td>109</td>\n",
              "      <td>102</td>\n",
              "      <td>106</td>\n",
              "      <td>96</td>\n",
              "      <td>91</td>\n",
              "      <td>102</td>\n",
              "      <td>89</td>\n",
              "      <td>0</td>\n",
              "      <td>5</td>\n",
              "    </tr>\n",
              "  </tbody>\n",
              "</table>\n",
              "<p>5 rows × 1027 columns</p>\n",
              "</div>\n",
              "    <div class=\"colab-df-buttons\">\n",
              "\n",
              "  <div class=\"colab-df-container\">\n",
              "    <button class=\"colab-df-convert\" onclick=\"convertToInteractive('df-e61aa3d3-f722-4d80-a7a9-85eff3a09ef7')\"\n",
              "            title=\"Convert this dataframe to an interactive table.\"\n",
              "            style=\"display:none;\">\n",
              "\n",
              "  <svg xmlns=\"http://www.w3.org/2000/svg\" height=\"24px\" viewBox=\"0 -960 960 960\">\n",
              "    <path d=\"M120-120v-720h720v720H120Zm60-500h600v-160H180v160Zm220 220h160v-160H400v160Zm0 220h160v-160H400v160ZM180-400h160v-160H180v160Zm440 0h160v-160H620v160ZM180-180h160v-160H180v160Zm440 0h160v-160H620v160Z\"/>\n",
              "  </svg>\n",
              "    </button>\n",
              "\n",
              "  <style>\n",
              "    .colab-df-container {\n",
              "      display:flex;\n",
              "      gap: 12px;\n",
              "    }\n",
              "\n",
              "    .colab-df-convert {\n",
              "      background-color: #E8F0FE;\n",
              "      border: none;\n",
              "      border-radius: 50%;\n",
              "      cursor: pointer;\n",
              "      display: none;\n",
              "      fill: #1967D2;\n",
              "      height: 32px;\n",
              "      padding: 0 0 0 0;\n",
              "      width: 32px;\n",
              "    }\n",
              "\n",
              "    .colab-df-convert:hover {\n",
              "      background-color: #E2EBFA;\n",
              "      box-shadow: 0px 1px 2px rgba(60, 64, 67, 0.3), 0px 1px 3px 1px rgba(60, 64, 67, 0.15);\n",
              "      fill: #174EA6;\n",
              "    }\n",
              "\n",
              "    .colab-df-buttons div {\n",
              "      margin-bottom: 4px;\n",
              "    }\n",
              "\n",
              "    [theme=dark] .colab-df-convert {\n",
              "      background-color: #3B4455;\n",
              "      fill: #D2E3FC;\n",
              "    }\n",
              "\n",
              "    [theme=dark] .colab-df-convert:hover {\n",
              "      background-color: #434B5C;\n",
              "      box-shadow: 0px 1px 3px 1px rgba(0, 0, 0, 0.15);\n",
              "      filter: drop-shadow(0px 1px 2px rgba(0, 0, 0, 0.3));\n",
              "      fill: #FFFFFF;\n",
              "    }\n",
              "  </style>\n",
              "\n",
              "    <script>\n",
              "      const buttonEl =\n",
              "        document.querySelector('#df-e61aa3d3-f722-4d80-a7a9-85eff3a09ef7 button.colab-df-convert');\n",
              "      buttonEl.style.display =\n",
              "        google.colab.kernel.accessAllowed ? 'block' : 'none';\n",
              "\n",
              "      async function convertToInteractive(key) {\n",
              "        const element = document.querySelector('#df-e61aa3d3-f722-4d80-a7a9-85eff3a09ef7');\n",
              "        const dataTable =\n",
              "          await google.colab.kernel.invokeFunction('convertToInteractive',\n",
              "                                                    [key], {});\n",
              "        if (!dataTable) return;\n",
              "\n",
              "        const docLinkHtml = 'Like what you see? Visit the ' +\n",
              "          '<a target=\"_blank\" href=https://colab.research.google.com/notebooks/data_table.ipynb>data table notebook</a>'\n",
              "          + ' to learn more about interactive tables.';\n",
              "        element.innerHTML = '';\n",
              "        dataTable['output_type'] = 'display_data';\n",
              "        await google.colab.output.renderOutput(dataTable, element);\n",
              "        const docLink = document.createElement('div');\n",
              "        docLink.innerHTML = docLinkHtml;\n",
              "        element.appendChild(docLink);\n",
              "      }\n",
              "    </script>\n",
              "  </div>\n",
              "\n",
              "\n",
              "<div id=\"df-60053012-43c7-4b42-955c-8099a91a8de5\">\n",
              "  <button class=\"colab-df-quickchart\" onclick=\"quickchart('df-60053012-43c7-4b42-955c-8099a91a8de5')\"\n",
              "            title=\"Suggest charts\"\n",
              "            style=\"display:none;\">\n",
              "\n",
              "<svg xmlns=\"http://www.w3.org/2000/svg\" height=\"24px\"viewBox=\"0 0 24 24\"\n",
              "     width=\"24px\">\n",
              "    <g>\n",
              "        <path d=\"M19 3H5c-1.1 0-2 .9-2 2v14c0 1.1.9 2 2 2h14c1.1 0 2-.9 2-2V5c0-1.1-.9-2-2-2zM9 17H7v-7h2v7zm4 0h-2V7h2v10zm4 0h-2v-4h2v4z\"/>\n",
              "    </g>\n",
              "</svg>\n",
              "  </button>\n",
              "\n",
              "<style>\n",
              "  .colab-df-quickchart {\n",
              "      --bg-color: #E8F0FE;\n",
              "      --fill-color: #1967D2;\n",
              "      --hover-bg-color: #E2EBFA;\n",
              "      --hover-fill-color: #174EA6;\n",
              "      --disabled-fill-color: #AAA;\n",
              "      --disabled-bg-color: #DDD;\n",
              "  }\n",
              "\n",
              "  [theme=dark] .colab-df-quickchart {\n",
              "      --bg-color: #3B4455;\n",
              "      --fill-color: #D2E3FC;\n",
              "      --hover-bg-color: #434B5C;\n",
              "      --hover-fill-color: #FFFFFF;\n",
              "      --disabled-bg-color: #3B4455;\n",
              "      --disabled-fill-color: #666;\n",
              "  }\n",
              "\n",
              "  .colab-df-quickchart {\n",
              "    background-color: var(--bg-color);\n",
              "    border: none;\n",
              "    border-radius: 50%;\n",
              "    cursor: pointer;\n",
              "    display: none;\n",
              "    fill: var(--fill-color);\n",
              "    height: 32px;\n",
              "    padding: 0;\n",
              "    width: 32px;\n",
              "  }\n",
              "\n",
              "  .colab-df-quickchart:hover {\n",
              "    background-color: var(--hover-bg-color);\n",
              "    box-shadow: 0 1px 2px rgba(60, 64, 67, 0.3), 0 1px 3px 1px rgba(60, 64, 67, 0.15);\n",
              "    fill: var(--button-hover-fill-color);\n",
              "  }\n",
              "\n",
              "  .colab-df-quickchart-complete:disabled,\n",
              "  .colab-df-quickchart-complete:disabled:hover {\n",
              "    background-color: var(--disabled-bg-color);\n",
              "    fill: var(--disabled-fill-color);\n",
              "    box-shadow: none;\n",
              "  }\n",
              "\n",
              "  .colab-df-spinner {\n",
              "    border: 2px solid var(--fill-color);\n",
              "    border-color: transparent;\n",
              "    border-bottom-color: var(--fill-color);\n",
              "    animation:\n",
              "      spin 1s steps(1) infinite;\n",
              "  }\n",
              "\n",
              "  @keyframes spin {\n",
              "    0% {\n",
              "      border-color: transparent;\n",
              "      border-bottom-color: var(--fill-color);\n",
              "      border-left-color: var(--fill-color);\n",
              "    }\n",
              "    20% {\n",
              "      border-color: transparent;\n",
              "      border-left-color: var(--fill-color);\n",
              "      border-top-color: var(--fill-color);\n",
              "    }\n",
              "    30% {\n",
              "      border-color: transparent;\n",
              "      border-left-color: var(--fill-color);\n",
              "      border-top-color: var(--fill-color);\n",
              "      border-right-color: var(--fill-color);\n",
              "    }\n",
              "    40% {\n",
              "      border-color: transparent;\n",
              "      border-right-color: var(--fill-color);\n",
              "      border-top-color: var(--fill-color);\n",
              "    }\n",
              "    60% {\n",
              "      border-color: transparent;\n",
              "      border-right-color: var(--fill-color);\n",
              "    }\n",
              "    80% {\n",
              "      border-color: transparent;\n",
              "      border-right-color: var(--fill-color);\n",
              "      border-bottom-color: var(--fill-color);\n",
              "    }\n",
              "    90% {\n",
              "      border-color: transparent;\n",
              "      border-bottom-color: var(--fill-color);\n",
              "    }\n",
              "  }\n",
              "</style>\n",
              "\n",
              "  <script>\n",
              "    async function quickchart(key) {\n",
              "      const quickchartButtonEl =\n",
              "        document.querySelector('#' + key + ' button');\n",
              "      quickchartButtonEl.disabled = true;  // To prevent multiple clicks.\n",
              "      quickchartButtonEl.classList.add('colab-df-spinner');\n",
              "      try {\n",
              "        const charts = await google.colab.kernel.invokeFunction(\n",
              "            'suggestCharts', [key], {});\n",
              "      } catch (error) {\n",
              "        console.error('Error during call to suggestCharts:', error);\n",
              "      }\n",
              "      quickchartButtonEl.classList.remove('colab-df-spinner');\n",
              "      quickchartButtonEl.classList.add('colab-df-quickchart-complete');\n",
              "    }\n",
              "    (() => {\n",
              "      let quickchartButtonEl =\n",
              "        document.querySelector('#df-60053012-43c7-4b42-955c-8099a91a8de5 button');\n",
              "      quickchartButtonEl.style.display =\n",
              "        google.colab.kernel.accessAllowed ? 'block' : 'none';\n",
              "    })();\n",
              "  </script>\n",
              "</div>\n",
              "\n",
              "    </div>\n",
              "  </div>\n"
            ],
            "application/vnd.google.colaboratory.intrinsic+json": {
              "type": "dataframe",
              "variable_name": "data"
            }
          },
          "metadata": {},
          "execution_count": 4
        }
      ]
    },
    {
      "cell_type": "code",
      "source": [
        "data2=data.drop(['ID'],axis=1) #ID is of no use and first task is only limited to binary  classification\n",
        "data2.isnull().sum().unique() #all are non null values"
      ],
      "metadata": {
        "colab": {
          "base_uri": "https://localhost:8080/"
        },
        "id": "HlfZquHy5G9s",
        "outputId": "e2303e13-1dde-49d9-c03d-b643a0f88276"
      },
      "execution_count": null,
      "outputs": [
        {
          "output_type": "execute_result",
          "data": {
            "text/plain": [
              "array([0])"
            ]
          },
          "metadata": {},
          "execution_count": 5
        }
      ]
    },
    {
      "cell_type": "code",
      "source": [
        "x =data2.iloc[:8000,:-2].values    # and first task is only limited to binary  classification\n",
        "y=data2.iloc[:8000,-2].values"
      ],
      "metadata": {
        "id": "twiAu0mk6cvV"
      },
      "execution_count": null,
      "outputs": []
    },
    {
      "cell_type": "code",
      "source": [
        "nan_mask = np.isnan(x)\n",
        "if np.any(nan_mask):\n",
        "    print(\"NaN values found in x at positions:\", np.where(nan_mask))\n",
        "\n",
        "# Check for Inf values\n",
        "inf_mask = np.isinf(x)\n",
        "if np.any(inf_mask):\n",
        "    print(\"Inf values found in x at positions:\", np.where(inf_mask))"
      ],
      "metadata": {
        "id": "jpmy9sXP6gKr"
      },
      "execution_count": null,
      "outputs": []
    },
    {
      "cell_type": "code",
      "source": [
        "print(f\"{x.shape} , {y.shape}\")"
      ],
      "metadata": {
        "colab": {
          "base_uri": "https://localhost:8080/"
        },
        "id": "lVZKfvpk6kFb",
        "outputId": "83a6b7ba-3004-4f5a-c074-698ca1809ad8"
      },
      "execution_count": null,
      "outputs": [
        {
          "output_type": "stream",
          "name": "stdout",
          "text": [
            "(8000, 1024) , (8000,)\n"
          ]
        }
      ]
    },
    {
      "cell_type": "code",
      "source": [
        "def sigmoid(z):\n",
        "    return 1 / (1 + np.exp(-z))\n",
        "\n",
        "def relu(z):\n",
        "    return np.maximum(0, z)"
      ],
      "metadata": {
        "id": "yJcy-Pce6oCb"
      },
      "execution_count": null,
      "outputs": []
    },
    {
      "cell_type": "code",
      "source": [
        "def sigmoid_derivative(A):\n",
        "    return A * (1 - A)\n",
        "\n",
        "def relu_derivative(z):\n",
        "    return (z > 0).astype(int)"
      ],
      "metadata": {
        "id": "6ktw6Gwu67eT"
      },
      "execution_count": null,
      "outputs": []
    },
    {
      "cell_type": "code",
      "source": [
        "def softmax(x):\n",
        "    exp_x = np.exp(x - np.max(x, axis=1, keepdims=True))  # Stability improvement\n",
        "    return exp_x / np.sum(exp_x, axis=1, keepdims=True)"
      ],
      "metadata": {
        "id": "96Sbu8cz31ek"
      },
      "execution_count": null,
      "outputs": []
    },
    {
      "cell_type": "code",
      "source": [
        "# Random parameter initialization\n",
        "def random_parameters(layers):\n",
        "    parameters = {}\n",
        "    for i in range(1, len(layers)):\n",
        "        parameters[f\"w{i}\"] = np.random.randn(layers[i], layers[i-1]) * 0.01  # Initialize weights\n",
        "        parameters[f\"b{i}\"] = np.zeros((layers[i], 1))  # Initialize biases to zero\n",
        "    return parameters"
      ],
      "metadata": {
        "id": "DhaKYRGr69Pj"
      },
      "execution_count": null,
      "outputs": []
    },
    {
      "cell_type": "code",
      "source": [
        "# Forward Propagation\n",
        "def forward(x, parameters, layers):\n",
        "    cache = {\"A0\": x}\n",
        "    for i in range(1, len(layers)):\n",
        "        w = parameters[f\"w{i}\"]\n",
        "        b = parameters[f\"b{i}\"]\n",
        "        A_prev = cache[f\"A{i-1}\"]\n",
        "        z = np.dot(w, A_prev) + b  # Linear transformation\n",
        "        A = relu(z) if i < len(layers) - 1 else sigmoid(z)  # Apply activation function\n",
        "        cache[f\"z{i}\"] = z\n",
        "        cache[f\"A{i}\"] = A\n",
        "    return cache\n"
      ],
      "metadata": {
        "id": "T0l9d9zn7Dal"
      },
      "execution_count": null,
      "outputs": []
    },
    {
      "cell_type": "code",
      "source": [
        "# Backward Propagation\n",
        "lambda_val = 0.01\n",
        "def backward(x, y, parameters, cache, layers):\n",
        "    grads = {}\n",
        "    m = x.shape[1]\n",
        "    A_final = cache[f\"A{len(layers)-1}\"]\n",
        "\n",
        "    # Compute dA for the output layer (binary cross-entropy loss derivative)\n",
        "    dA = -(y / (A_final + 1e-9) - (1 - y) / (1 - A_final + 1e-9))\n",
        "\n",
        "    for i in reversed(range(1, len(layers))):\n",
        "        A_prev = cache[f\"A{i-1}\"]\n",
        "        z = cache[f\"z{i}\"]\n",
        "\n",
        "        # Output layer (sigmoid)\n",
        "        if i == len(layers) - 1:\n",
        "            dz = dA * sigmoid_derivative(A_final)\n",
        "        # Hidden layers (ReLU)\n",
        "        else:\n",
        "            dz = dA * relu_derivative(z)\n",
        "\n",
        "        # Compute gradients for weights and biases\n",
        "        grads[f\"dw{i}\"] = np.dot(dz, A_prev.T) / m +(lambda_val / m) * parameters[f\"w{i}\"]  # Add regularization\n",
        "        grads[f\"db{i}\"] = np.sum(dz, axis=1, keepdims=True) / m\n",
        "\n",
        "        # Backpropagate the error to the previous layer\n",
        "        dA = np.dot(parameters[f\"w{i}\"].T, dz)\n",
        "\n",
        "    return grads"
      ],
      "metadata": {
        "id": "4YjQswGS7Gu7"
      },
      "execution_count": null,
      "outputs": []
    },
    {
      "cell_type": "code",
      "source": [
        "# Prediction Function\n",
        "def predict(x, parameters, layers):\n",
        "    # Perform forward propagation\n",
        "    cache = forward(x, parameters, layers)\n",
        "\n",
        "    # The final activation is the predicted probability (sigmoid output for binary classification)\n",
        "    A_final = cache[f\"A{len(layers)-1}\"]\n",
        "\n",
        "    # Convert probabilities to class labels (0 or 1)\n",
        "    predictions = (A_final > 0.5).astype(int)  # Convert probabilities to binary labels (0 or 1)\n",
        "\n",
        "    return predictions\n"
      ],
      "metadata": {
        "id": "dEMRG-R07JIc"
      },
      "execution_count": null,
      "outputs": []
    },
    {
      "cell_type": "code",
      "source": [
        "# Example Training Loop\n",
        "def train_neural_network(X, y, layers, epochs, learning_rate):\n",
        "    parameters = random_parameters(layers)\n",
        "    losses = []  # List to store the loss at each epoch\n",
        "\n",
        "    for epoch in range(epochs):\n",
        "        # Forward pass\n",
        "        cache = forward(X, parameters, layers)\n",
        "\n",
        "        # Backward pass\n",
        "        grads = backward(X, y, parameters, cache, layers)\n",
        "\n",
        "        # Update parameters using gradient descent\n",
        "        for i in range(1, len(layers)):\n",
        "            parameters[f\"w{i}\"] -= learning_rate * grads[f\"dw{i}\"]\n",
        "            parameters[f\"b{i}\"] -= learning_rate * grads[f\"db{i}\"]\n",
        "\n",
        "        # Calculate loss and store it\n",
        "        A_final = cache[f\"A{len(layers)-1}\"]\n",
        "        loss = -np.mean(y * np.log(A_final + 1e-9) + (1 - y) * np.log(1 - A_final + 1e-9)) \\\n",
        "               + (lambda_val / (2 * X.shape[1])) * np.sum([np.sum(parameters[f\"w{i}\"]**2) for i in range(1, len(layers))])\n",
        "        losses.append(loss)\n",
        "\n",
        "        # Print the loss every 100 epochs\n",
        "        if epoch % 100 == 0:\n",
        "            print(f\"Epoch {epoch}, Loss: {loss:.4f}\")\n",
        "\n",
        "    return parameters, losses"
      ],
      "metadata": {
        "id": "2kl81fGd7M1z"
      },
      "execution_count": null,
      "outputs": []
    },
    {
      "cell_type": "code",
      "source": [
        "x.shape"
      ],
      "metadata": {
        "colab": {
          "base_uri": "https://localhost:8080/"
        },
        "id": "T91y9O3f7tfr",
        "outputId": "1366d394-eec6-434b-cc96-a44b71199a08"
      },
      "execution_count": null,
      "outputs": [
        {
          "output_type": "execute_result",
          "data": {
            "text/plain": [
              "(8000, 1024)"
            ]
          },
          "metadata": {},
          "execution_count": 17
        }
      ]
    },
    {
      "cell_type": "code",
      "source": [
        "\n",
        "X = x.T\n",
        "y = y\n",
        "\n",
        "layers = [1024, 10, 1]"
      ],
      "metadata": {
        "id": "6ip-BIxF7Qn8"
      },
      "execution_count": null,
      "outputs": []
    },
    {
      "cell_type": "code",
      "source": [
        "# Train the neural network and get the losses at each epoch\n",
        "parameters, losses = train_neural_network(X, y, layers, epochs=1000, learning_rate=0.001)\n"
      ],
      "metadata": {
        "colab": {
          "base_uri": "https://localhost:8080/"
        },
        "id": "T-BsSCxz7S2r",
        "outputId": "27dd48bb-0374-4689-d3e1-59c1c11545ae"
      },
      "execution_count": null,
      "outputs": [
        {
          "output_type": "stream",
          "name": "stdout",
          "text": [
            "Epoch 0, Loss: 0.7205\n",
            "Epoch 100, Loss: 0.6465\n",
            "Epoch 200, Loss: 0.6200\n",
            "Epoch 300, Loss: 0.6166\n",
            "Epoch 400, Loss: 0.5976\n",
            "Epoch 500, Loss: 0.5915\n",
            "Epoch 600, Loss: 0.5817\n",
            "Epoch 700, Loss: 0.6180\n",
            "Epoch 800, Loss: 0.5697\n",
            "Epoch 900, Loss: 0.6656\n"
          ]
        }
      ]
    },
    {
      "cell_type": "code",
      "source": [
        "# Plot the learning curve (loss vs epochs)\n",
        "plt.plot(losses)\n",
        "plt.title(\"Learning Curve\")\n",
        "plt.xlabel(\"Epochs\")\n",
        "plt.ylabel(\"Loss\")\n",
        "plt.show()\n"
      ],
      "metadata": {
        "colab": {
          "base_uri": "https://localhost:8080/",
          "height": 472
        },
        "id": "NjtxLHqA7Umk",
        "outputId": "b6b6bea5-c6ac-423a-dd1f-f8e286d8e4c0"
      },
      "execution_count": null,
      "outputs": [
        {
          "output_type": "display_data",
          "data": {
            "text/plain": [
              "<Figure size 640x480 with 1 Axes>"
            ],
            "image/png": "[encoded data removed]"
          },
          "metadata": {}
        }
      ]
    },
    {
      "cell_type": "code",
      "source": [
        "def predict(X, parameters, layers):\n",
        "    # Perform forward pass\n",
        "    cache = forward(X, parameters, layers)\n",
        "\n",
        "    # Get the final output (A_final)\n",
        "    A_final = cache[f\"A{len(layers)-1}\"]\n",
        "\n",
        "    # Apply sigmoid threshold of 0.5 for binary classification\n",
        "    predictions = (A_final > 0.5).astype(int)\n",
        "\n",
        "    return predictions\n"
      ],
      "metadata": {
        "id": "4BAYilc74PfC"
      },
      "execution_count": null,
      "outputs": []
    },
    {
      "cell_type": "code",
      "source": [
        "y_pred = predict(X, parameters, layers)"
      ],
      "metadata": {
        "id": "3BBQSbLe4n2P"
      },
      "execution_count": null,
      "outputs": []
    },
    {
      "cell_type": "code",
      "source": [
        "def calculate_f1_score(y_true, y_pred):\n",
        "\n",
        "    y_true = np.asarray(y_true)\n",
        "    y_pred = np.asarray(y_pred)\n",
        "\n",
        "    # True Positives (TP): Predicted 1 and Actual 1\n",
        "    tp = np.sum((y_pred == 1) & (y_true == 1))\n",
        "\n",
        "    # False Positives (FP): Predicted 1 and Actual 0\n",
        "    fp = np.sum((y_pred == 1) & (y_true == 0))\n",
        "\n",
        "    # False Negatives (FN): Predicted 0 and Actual 1\n",
        "    fn = np.sum((y_pred == 0) & (y_true == 1))\n",
        "\n",
        "    precision = tp / (tp + fp) if (tp + fp) > 0 else 0\n",
        "    recall = tp / (tp + fn) if (tp + fn) > 0 else 0\n",
        "\n",
        "    f1_score = (2 * precision * recall) / (precision + recall) if (precision + recall) > 0 else 0\n",
        "    return f1_score,precision,recall"
      ],
      "metadata": {
        "id": "evIgYY0q8k-O"
      },
      "execution_count": null,
      "outputs": []
    },
    {
      "cell_type": "code",
      "source": [
        "# Calculate F1 score\n",
        "f1,pre,re = calculate_f1_score(y, y_pred)\n",
        "print(f\"F1 Score: {f1:.2f},precision: {pre:.2f},recall: {re:.2f}\")\n"
      ],
      "metadata": {
        "colab": {
          "base_uri": "https://localhost:8080/"
        },
        "id": "77iI8UfpxCeT",
        "outputId": "c15582b6-185a-455d-c4a9-3dd69238af5b"
      },
      "execution_count": null,
      "outputs": [
        {
          "output_type": "stream",
          "name": "stdout",
          "text": [
            "F1 Score: 0.62,precision: 0.62,recall: 0.62\n"
          ]
        }
      ]
    },
    {
      "cell_type": "code",
      "source": [
        "f1_score,p,r = calculate_f1_score(y[:10000], y_pred)\n",
        "print(f\"F1 Score: {f1_score},{p},{r}\")"
      ],
      "metadata": {
        "id": "1-7qZDUrxB0S"
      },
      "execution_count": null,
      "outputs": []
    },
    {
      "cell_type": "code",
      "source": [],
      "metadata": {
        "id": "eO_7cM4tqAFb"
      },
      "execution_count": null,
      "outputs": []
    }
  ]
}