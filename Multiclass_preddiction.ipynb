{
  "cells": [
    {
      "cell_type": "markdown",
      "metadata": {
        "id": "view-in-github",
        "colab_type": "text"
      },
      "source": [
        "<a href=\"https://colab.research.google.com/github/Sathwik-parimi-07/woc/blob/main/Multiclass_preddiction.ipynb\" target=\"_parent\"><img src=\"https://colab.research.google.com/assets/colab-badge.svg\" alt=\"Open In Colab\"/></a>"
      ]
    },
    {
      "cell_type": "code",
      "execution_count": null,
      "metadata": {
        "id": "sqjfRnP39fHm"
      },
      "outputs": [],
      "source": [
        "import numpy as np\n",
        "import pandas as pd\n",
        "import matplotlib.pyplot as plt"
      ]
    },
    {
      "cell_type": "code",
      "execution_count": null,
      "metadata": {
        "colab": {
          "base_uri": "https://localhost:8080/"
        },
        "id": "ZNtaZwoC9fE6",
        "outputId": "74d67e47-b156-4c0f-fb73-3ef9dfc4f7c1"
      },
      "outputs": [
        {
          "output_type": "stream",
          "name": "stdout",
          "text": [
            "Mounted at /content/drive\n"
          ]
        }
      ],
      "source": [
        "from google.colab import drive\n",
        "drive.mount('/content/drive')"
      ]
    },
    {
      "cell_type": "code",
      "execution_count": null,
      "metadata": {
        "id": "GG0ifpLh9fBn"
      },
      "outputs": [],
      "source": [
        "data=pd.read_csv(r'/content/drive/MyDrive/woc drive/nn_train.csv')"
      ]
    },
    {
      "cell_type": "code",
      "execution_count": null,
      "metadata": {
        "colab": {
          "base_uri": "https://localhost:8080/",
          "height": 342
        },
        "id": "DHIPb_pQ9e--",
        "outputId": "6b273490-da59-4de1-aa45-f5cfdb6927ec"
      },
      "outputs": [
        {
          "output_type": "stream",
          "name": "stdout",
          "text": [
            "<class 'pandas.core.frame.DataFrame'>\n",
            "RangeIndex: 80000 entries, 0 to 79999\n",
            "Columns: 1027 entries, ID to class_label\n",
            "dtypes: int64(1027)\n",
            "memory usage: 626.8 MB\n"
          ]
        },
        {
          "output_type": "execute_result",
          "data": {
            "text/plain": [
              "   ID  Feature_1  Feature_2  Feature_3  Feature_4  Feature_5  Feature_6  \\\n",
              "0   1         81        109         91         96        107         97   \n",
              "1   2        168        168        169        169        170        171   \n",
              "2   3         14         20         32          6         27          6   \n",
              "3   4         60        109        157        126         82         80   \n",
              "4   5         63         72         86         75         93         77   \n",
              "\n",
              "   Feature_7  Feature_8  Feature_9  ...  Feature_1017  Feature_1018  \\\n",
              "0        103         95        100  ...           114            93   \n",
              "1        172        172        175  ...            44            44   \n",
              "2          5         34         15  ...            63            64   \n",
              "3         70         58         37  ...           105           102   \n",
              "4         75         67         62  ...           108           109   \n",
              "\n",
              "   Feature_1019  Feature_1020  Feature_1021  Feature_1022  Feature_1023  \\\n",
              "0            91            98            72            92            78   \n",
              "1            44            44            44            44            44   \n",
              "2            63            60            54            48            43   \n",
              "3            99            98           100           105           111   \n",
              "4           102           106            96            91           102   \n",
              "\n",
              "   Feature_1024  binary_label  class_label  \n",
              "0            78             0            5  \n",
              "1            44             0            9  \n",
              "2            41             0            5  \n",
              "3           114             1            8  \n",
              "4            89             0            5  \n",
              "\n",
              "[5 rows x 1027 columns]"
            ],
            "text/html": [
              "\n",
              "  <div id=\"df-5ec069c1-c818-49e8-b680-a4622964e7ac\" class=\"colab-df-container\">\n",
              "    <div>\n",
              "<style scoped>\n",
              "    .dataframe tbody tr th:only-of-type {\n",
              "        vertical-align: middle;\n",
              "    }\n",
              "\n",
              "    .dataframe tbody tr th {\n",
              "        vertical-align: top;\n",
              "    }\n",
              "\n",
              "    .dataframe thead th {\n",
              "        text-align: right;\n",
              "    }\n",
              "</style>\n",
              "<table border=\"1\" class=\"dataframe\">\n",
              "  <thead>\n",
              "    <tr style=\"text-align: right;\">\n",
              "      <th></th>\n",
              "      <th>ID</th>\n",
              "      <th>Feature_1</th>\n",
              "      <th>Feature_2</th>\n",
              "      <th>Feature_3</th>\n",
              "      <th>Feature_4</th>\n",
              "      <th>Feature_5</th>\n",
              "      <th>Feature_6</th>\n",
              "      <th>Feature_7</th>\n",
              "      <th>Feature_8</th>\n",
              "      <th>Feature_9</th>\n",
              "      <th>...</th>\n",
              "      <th>Feature_1017</th>\n",
              "      <th>Feature_1018</th>\n",
              "      <th>Feature_1019</th>\n",
              "      <th>Feature_1020</th>\n",
              "      <th>Feature_1021</th>\n",
              "      <th>Feature_1022</th>\n",
              "      <th>Feature_1023</th>\n",
              "      <th>Feature_1024</th>\n",
              "      <th>binary_label</th>\n",
              "      <th>class_label</th>\n",
              "    </tr>\n",
              "  </thead>\n",
              "  <tbody>\n",
              "    <tr>\n",
              "      <th>0</th>\n",
              "      <td>1</td>\n",
              "      <td>81</td>\n",
              "      <td>109</td>\n",
              "      <td>91</td>\n",
              "      <td>96</td>\n",
              "      <td>107</td>\n",
              "      <td>97</td>\n",
              "      <td>103</td>\n",
              "      <td>95</td>\n",
              "      <td>100</td>\n",
              "      <td>...</td>\n",
              "      <td>114</td>\n",
              "      <td>93</td>\n",
              "      <td>91</td>\n",
              "      <td>98</td>\n",
              "      <td>72</td>\n",
              "      <td>92</td>\n",
              "      <td>78</td>\n",
              "      <td>78</td>\n",
              "      <td>0</td>\n",
              "      <td>5</td>\n",
              "    </tr>\n",
              "    <tr>\n",
              "      <th>1</th>\n",
              "      <td>2</td>\n",
              "      <td>168</td>\n",
              "      <td>168</td>\n",
              "      <td>169</td>\n",
              "      <td>169</td>\n",
              "      <td>170</td>\n",
              "      <td>171</td>\n",
              "      <td>172</td>\n",
              "      <td>172</td>\n",
              "      <td>175</td>\n",
              "      <td>...</td>\n",
              "      <td>44</td>\n",
              "      <td>44</td>\n",
              "      <td>44</td>\n",
              "      <td>44</td>\n",
              "      <td>44</td>\n",
              "      <td>44</td>\n",
              "      <td>44</td>\n",
              "      <td>44</td>\n",
              "      <td>0</td>\n",
              "      <td>9</td>\n",
              "    </tr>\n",
              "    <tr>\n",
              "      <th>2</th>\n",
              "      <td>3</td>\n",
              "      <td>14</td>\n",
              "      <td>20</td>\n",
              "      <td>32</td>\n",
              "      <td>6</td>\n",
              "      <td>27</td>\n",
              "      <td>6</td>\n",
              "      <td>5</td>\n",
              "      <td>34</td>\n",
              "      <td>15</td>\n",
              "      <td>...</td>\n",
              "      <td>63</td>\n",
              "      <td>64</td>\n",
              "      <td>63</td>\n",
              "      <td>60</td>\n",
              "      <td>54</td>\n",
              "      <td>48</td>\n",
              "      <td>43</td>\n",
              "      <td>41</td>\n",
              "      <td>0</td>\n",
              "      <td>5</td>\n",
              "    </tr>\n",
              "    <tr>\n",
              "      <th>3</th>\n",
              "      <td>4</td>\n",
              "      <td>60</td>\n",
              "      <td>109</td>\n",
              "      <td>157</td>\n",
              "      <td>126</td>\n",
              "      <td>82</td>\n",
              "      <td>80</td>\n",
              "      <td>70</td>\n",
              "      <td>58</td>\n",
              "      <td>37</td>\n",
              "      <td>...</td>\n",
              "      <td>105</td>\n",
              "      <td>102</td>\n",
              "      <td>99</td>\n",
              "      <td>98</td>\n",
              "      <td>100</td>\n",
              "      <td>105</td>\n",
              "      <td>111</td>\n",
              "      <td>114</td>\n",
              "      <td>1</td>\n",
              "      <td>8</td>\n",
              "    </tr>\n",
              "    <tr>\n",
              "      <th>4</th>\n",
              "      <td>5</td>\n",
              "      <td>63</td>\n",
              "      <td>72</td>\n",
              "      <td>86</td>\n",
              "      <td>75</td>\n",
              "      <td>93</td>\n",
              "      <td>77</td>\n",
              "      <td>75</td>\n",
              "      <td>67</td>\n",
              "      <td>62</td>\n",
              "      <td>...</td>\n",
              "      <td>108</td>\n",
              "      <td>109</td>\n",
              "      <td>102</td>\n",
              "      <td>106</td>\n",
              "      <td>96</td>\n",
              "      <td>91</td>\n",
              "      <td>102</td>\n",
              "      <td>89</td>\n",
              "      <td>0</td>\n",
              "      <td>5</td>\n",
              "    </tr>\n",
              "  </tbody>\n",
              "</table>\n",
              "<p>5 rows × 1027 columns</p>\n",
              "</div>\n",
              "    <div class=\"colab-df-buttons\">\n",
              "\n",
              "  <div class=\"colab-df-container\">\n",
              "    <button class=\"colab-df-convert\" onclick=\"convertToInteractive('df-5ec069c1-c818-49e8-b680-a4622964e7ac')\"\n",
              "            title=\"Convert this dataframe to an interactive table.\"\n",
              "            style=\"display:none;\">\n",
              "\n",
              "  <svg xmlns=\"http://www.w3.org/2000/svg\" height=\"24px\" viewBox=\"0 -960 960 960\">\n",
              "    <path d=\"M120-120v-720h720v720H120Zm60-500h600v-160H180v160Zm220 220h160v-160H400v160Zm0 220h160v-160H400v160ZM180-400h160v-160H180v160Zm440 0h160v-160H620v160ZM180-180h160v-160H180v160Zm440 0h160v-160H620v160Z\"/>\n",
              "  </svg>\n",
              "    </button>\n",
              "\n",
              "  <style>\n",
              "    .colab-df-container {\n",
              "      display:flex;\n",
              "      gap: 12px;\n",
              "    }\n",
              "\n",
              "    .colab-df-convert {\n",
              "      background-color: #E8F0FE;\n",
              "      border: none;\n",
              "      border-radius: 50%;\n",
              "      cursor: pointer;\n",
              "      display: none;\n",
              "      fill: #1967D2;\n",
              "      height: 32px;\n",
              "      padding: 0 0 0 0;\n",
              "      width: 32px;\n",
              "    }\n",
              "\n",
              "    .colab-df-convert:hover {\n",
              "      background-color: #E2EBFA;\n",
              "      box-shadow: 0px 1px 2px rgba(60, 64, 67, 0.3), 0px 1px 3px 1px rgba(60, 64, 67, 0.15);\n",
              "      fill: #174EA6;\n",
              "    }\n",
              "\n",
              "    .colab-df-buttons div {\n",
              "      margin-bottom: 4px;\n",
              "    }\n",
              "\n",
              "    [theme=dark] .colab-df-convert {\n",
              "      background-color: #3B4455;\n",
              "      fill: #D2E3FC;\n",
              "    }\n",
              "\n",
              "    [theme=dark] .colab-df-convert:hover {\n",
              "      background-color: #434B5C;\n",
              "      box-shadow: 0px 1px 3px 1px rgba(0, 0, 0, 0.15);\n",
              "      filter: drop-shadow(0px 1px 2px rgba(0, 0, 0, 0.3));\n",
              "      fill: #FFFFFF;\n",
              "    }\n",
              "  </style>\n",
              "\n",
              "    <script>\n",
              "      const buttonEl =\n",
              "        document.querySelector('#df-5ec069c1-c818-49e8-b680-a4622964e7ac button.colab-df-convert');\n",
              "      buttonEl.style.display =\n",
              "        google.colab.kernel.accessAllowed ? 'block' : 'none';\n",
              "\n",
              "      async function convertToInteractive(key) {\n",
              "        const element = document.querySelector('#df-5ec069c1-c818-49e8-b680-a4622964e7ac');\n",
              "        const dataTable =\n",
              "          await google.colab.kernel.invokeFunction('convertToInteractive',\n",
              "                                                    [key], {});\n",
              "        if (!dataTable) return;\n",
              "\n",
              "        const docLinkHtml = 'Like what you see? Visit the ' +\n",
              "          '<a target=\"_blank\" href=https://colab.research.google.com/notebooks/data_table.ipynb>data table notebook</a>'\n",
              "          + ' to learn more about interactive tables.';\n",
              "        element.innerHTML = '';\n",
              "        dataTable['output_type'] = 'display_data';\n",
              "        await google.colab.output.renderOutput(dataTable, element);\n",
              "        const docLink = document.createElement('div');\n",
              "        docLink.innerHTML = docLinkHtml;\n",
              "        element.appendChild(docLink);\n",
              "      }\n",
              "    </script>\n",
              "  </div>\n",
              "\n",
              "\n",
              "<div id=\"df-a0426e1c-75f6-4040-8dad-137529fabc2c\">\n",
              "  <button class=\"colab-df-quickchart\" onclick=\"quickchart('df-a0426e1c-75f6-4040-8dad-137529fabc2c')\"\n",
              "            title=\"Suggest charts\"\n",
              "            style=\"display:none;\">\n",
              "\n",
              "<svg xmlns=\"http://www.w3.org/2000/svg\" height=\"24px\"viewBox=\"0 0 24 24\"\n",
              "     width=\"24px\">\n",
              "    <g>\n",
              "        <path d=\"M19 3H5c-1.1 0-2 .9-2 2v14c0 1.1.9 2 2 2h14c1.1 0 2-.9 2-2V5c0-1.1-.9-2-2-2zM9 17H7v-7h2v7zm4 0h-2V7h2v10zm4 0h-2v-4h2v4z\"/>\n",
              "    </g>\n",
              "</svg>\n",
              "  </button>\n",
              "\n",
              "<style>\n",
              "  .colab-df-quickchart {\n",
              "      --bg-color: #E8F0FE;\n",
              "      --fill-color: #1967D2;\n",
              "      --hover-bg-color: #E2EBFA;\n",
              "      --hover-fill-color: #174EA6;\n",
              "      --disabled-fill-color: #AAA;\n",
              "      --disabled-bg-color: #DDD;\n",
              "  }\n",
              "\n",
              "  [theme=dark] .colab-df-quickchart {\n",
              "      --bg-color: #3B4455;\n",
              "      --fill-color: #D2E3FC;\n",
              "      --hover-bg-color: #434B5C;\n",
              "      --hover-fill-color: #FFFFFF;\n",
              "      --disabled-bg-color: #3B4455;\n",
              "      --disabled-fill-color: #666;\n",
              "  }\n",
              "\n",
              "  .colab-df-quickchart {\n",
              "    background-color: var(--bg-color);\n",
              "    border: none;\n",
              "    border-radius: 50%;\n",
              "    cursor: pointer;\n",
              "    display: none;\n",
              "    fill: var(--fill-color);\n",
              "    height: 32px;\n",
              "    padding: 0;\n",
              "    width: 32px;\n",
              "  }\n",
              "\n",
              "  .colab-df-quickchart:hover {\n",
              "    background-color: var(--hover-bg-color);\n",
              "    box-shadow: 0 1px 2px rgba(60, 64, 67, 0.3), 0 1px 3px 1px rgba(60, 64, 67, 0.15);\n",
              "    fill: var(--button-hover-fill-color);\n",
              "  }\n",
              "\n",
              "  .colab-df-quickchart-complete:disabled,\n",
              "  .colab-df-quickchart-complete:disabled:hover {\n",
              "    background-color: var(--disabled-bg-color);\n",
              "    fill: var(--disabled-fill-color);\n",
              "    box-shadow: none;\n",
              "  }\n",
              "\n",
              "  .colab-df-spinner {\n",
              "    border: 2px solid var(--fill-color);\n",
              "    border-color: transparent;\n",
              "    border-bottom-color: var(--fill-color);\n",
              "    animation:\n",
              "      spin 1s steps(1) infinite;\n",
              "  }\n",
              "\n",
              "  @keyframes spin {\n",
              "    0% {\n",
              "      border-color: transparent;\n",
              "      border-bottom-color: var(--fill-color);\n",
              "      border-left-color: var(--fill-color);\n",
              "    }\n",
              "    20% {\n",
              "      border-color: transparent;\n",
              "      border-left-color: var(--fill-color);\n",
              "      border-top-color: var(--fill-color);\n",
              "    }\n",
              "    30% {\n",
              "      border-color: transparent;\n",
              "      border-left-color: var(--fill-color);\n",
              "      border-top-color: var(--fill-color);\n",
              "      border-right-color: var(--fill-color);\n",
              "    }\n",
              "    40% {\n",
              "      border-color: transparent;\n",
              "      border-right-color: var(--fill-color);\n",
              "      border-top-color: var(--fill-color);\n",
              "    }\n",
              "    60% {\n",
              "      border-color: transparent;\n",
              "      border-right-color: var(--fill-color);\n",
              "    }\n",
              "    80% {\n",
              "      border-color: transparent;\n",
              "      border-right-color: var(--fill-color);\n",
              "      border-bottom-color: var(--fill-color);\n",
              "    }\n",
              "    90% {\n",
              "      border-color: transparent;\n",
              "      border-bottom-color: var(--fill-color);\n",
              "    }\n",
              "  }\n",
              "</style>\n",
              "\n",
              "  <script>\n",
              "    async function quickchart(key) {\n",
              "      const quickchartButtonEl =\n",
              "        document.querySelector('#' + key + ' button');\n",
              "      quickchartButtonEl.disabled = true;  // To prevent multiple clicks.\n",
              "      quickchartButtonEl.classList.add('colab-df-spinner');\n",
              "      try {\n",
              "        const charts = await google.colab.kernel.invokeFunction(\n",
              "            'suggestCharts', [key], {});\n",
              "      } catch (error) {\n",
              "        console.error('Error during call to suggestCharts:', error);\n",
              "      }\n",
              "      quickchartButtonEl.classList.remove('colab-df-spinner');\n",
              "      quickchartButtonEl.classList.add('colab-df-quickchart-complete');\n",
              "    }\n",
              "    (() => {\n",
              "      let quickchartButtonEl =\n",
              "        document.querySelector('#df-a0426e1c-75f6-4040-8dad-137529fabc2c button');\n",
              "      quickchartButtonEl.style.display =\n",
              "        google.colab.kernel.accessAllowed ? 'block' : 'none';\n",
              "    })();\n",
              "  </script>\n",
              "</div>\n",
              "\n",
              "    </div>\n",
              "  </div>\n"
            ],
            "application/vnd.google.colaboratory.intrinsic+json": {
              "type": "dataframe",
              "variable_name": "data"
            }
          },
          "metadata": {},
          "execution_count": 5
        }
      ],
      "source": [
        "data.info()\n",
        "data.head() #all features in numerical values, no categorical data to encode"
      ]
    },
    {
      "cell_type": "code",
      "execution_count": null,
      "metadata": {
        "colab": {
          "base_uri": "https://localhost:8080/"
        },
        "id": "zvcSOd-z9e8I",
        "outputId": "db16aaff-2543-4579-b52e-2ad046c427f0"
      },
      "outputs": [
        {
          "output_type": "execute_result",
          "data": {
            "text/plain": [
              "array([0])"
            ]
          },
          "metadata": {},
          "execution_count": 6
        }
      ],
      "source": [
        "data2=data.drop(['ID','binary_label'],axis=1) #ID is of no use and first task is only limited to binary  classification\n",
        "data2.isnull().sum().unique() #all are non null values"
      ]
    },
    {
      "cell_type": "code",
      "execution_count": null,
      "metadata": {
        "id": "-zS8CPdV9e4v"
      },
      "outputs": [],
      "source": [
        "x =data2.iloc[:8000,:-1].values    # and first task is only limited to binary  classification\n",
        "y=data2.iloc[:8000,-1].values"
      ]
    },
    {
      "cell_type": "code",
      "source": [
        "#standardisation\n",
        "#normalisation features\n",
        "mean=np.mean(x,axis=0)\n",
        "sd=np.std(x,axis=0)\n",
        "x=(x-mean)/sd\n",
        "\n",
        "print(x)"
      ],
      "metadata": {
        "colab": {
          "base_uri": "https://localhost:8080/"
        },
        "id": "3rXmM-4p78Q1",
        "outputId": "d5116657-a2b9-4a9a-952c-0d8acfaa8913"
      },
      "execution_count": null,
      "outputs": [
        {
          "output_type": "stream",
          "name": "stdout",
          "text": [
            "[[-0.49353373 -0.09914044 -0.38396936 ... -0.33494566 -0.56147072\n",
            "  -0.5439826 ]\n",
            " [ 0.76467384  0.76661878  0.7652921  ... -1.16633957 -1.14662066\n",
            "  -1.12196411]\n",
            " [-1.46249818 -1.4051162  -1.25328252 ... -1.09705674 -1.16383095\n",
            "  -1.17296248]\n",
            " ...\n",
            " [-0.27660139 -0.31924871 -0.36923524 ...  0.3405619   0.40230564\n",
            "   0.35698858]\n",
            " [ 0.62005228  0.61987993  0.60321677 ...  1.48372852  1.34887171\n",
            "   1.25795976]\n",
            " [-0.85508763 -0.83283469 -0.60498118 ... -0.7160012  -0.80241481\n",
            "  -0.84997281]]\n"
          ]
        }
      ]
    },
    {
      "cell_type": "code",
      "source": [
        "# Check if any NaN or Inf values are in x\n",
        "print(np.isnan(x).sum())  # Count NaNs\n",
        "print(np.isinf(x).sum())  # Count Infs"
      ],
      "metadata": {
        "colab": {
          "base_uri": "https://localhost:8080/"
        },
        "id": "6strSEy-d5z4",
        "outputId": "29291aae-86c0-4fc2-ed1f-a23994cea0c5"
      },
      "execution_count": null,
      "outputs": [
        {
          "output_type": "stream",
          "name": "stdout",
          "text": [
            "0\n",
            "0\n"
          ]
        }
      ]
    },
    {
      "cell_type": "code",
      "execution_count": null,
      "metadata": {
        "id": "EKX7Wld3_alI",
        "colab": {
          "base_uri": "https://localhost:8080/"
        },
        "outputId": "d00c5dd7-c12d-4ce5-9ad0-a50bcb7c4b48"
      },
      "outputs": [
        {
          "output_type": "stream",
          "name": "stdout",
          "text": [
            "Number of classes: 10\n",
            "Unique classes: [ 1  2  3  4  5  6  7  8  9 10]\n"
          ]
        }
      ],
      "source": [
        "# One-hot encode y for multi-class classification (use 10 classes for 1 to 10)\n",
        "def one_hot_encode(y, num_classes):\n",
        "    return np.eye(num_classes)[y - 1]  # y should be an array of integer labels (1-indexed)\n",
        "\n",
        "# Find the number of unique classes (multi-class: 10 classes)\n",
        "num_classes = len(np.unique(y))\n",
        "print(f\"Number of classes: {num_classes}\")\n",
        "\n",
        "# Display all unique classes\n",
        "unique_classes = np.unique(y)\n",
        "print(f\"Unique classes: {unique_classes}\")"
      ]
    },
    {
      "cell_type": "code",
      "source": [
        "# One-hot encode labels for multi-class classification\n",
        "y_one_hot = one_hot_encode(y, num_classes)\n",
        "print(y_one_hot)"
      ],
      "metadata": {
        "colab": {
          "base_uri": "https://localhost:8080/"
        },
        "id": "g1evse2uaqMZ",
        "outputId": "eb2ccc39-7476-49ca-d742-5a70bc126f36"
      },
      "execution_count": null,
      "outputs": [
        {
          "output_type": "stream",
          "name": "stdout",
          "text": [
            "[[0. 0. 0. ... 0. 0. 0.]\n",
            " [0. 0. 0. ... 0. 1. 0.]\n",
            " [0. 0. 0. ... 0. 0. 0.]\n",
            " ...\n",
            " [0. 0. 0. ... 0. 0. 0.]\n",
            " [1. 0. 0. ... 0. 0. 0.]\n",
            " [0. 0. 0. ... 0. 1. 0.]]\n"
          ]
        }
      ]
    },
    {
      "cell_type": "code",
      "execution_count": null,
      "metadata": {
        "id": "pVstDIfu_uPg"
      },
      "outputs": [],
      "source": [
        "# Transpose X and y for easier matrix operations\n",
        "X = x.T  # Shape (features, samples)\n",
        "Y = y_one_hot.T  # Shape (classes, samples)\n"
      ]
    },
    {
      "cell_type": "code",
      "execution_count": null,
      "metadata": {
        "id": "Bu3TtxKM9e1G"
      },
      "outputs": [],
      "source": [
        "nan_mask = np.isnan(x)\n",
        "if np.any(nan_mask):\n",
        "    print(\"NaN values found in x at positions:\", np.where(nan_mask))\n",
        "\n",
        "\n",
        "# Check for Inf values\n",
        "inf_mask = np.isinf(x)\n",
        "if np.any(inf_mask):\n",
        "    print(\"Inf values found in x at positions:\", np.where(inf_mask))"
      ]
    },
    {
      "cell_type": "code",
      "execution_count": null,
      "metadata": {
        "colab": {
          "base_uri": "https://localhost:8080/"
        },
        "id": "L69JpcjH9eyH",
        "outputId": "9eb19f11-bf14-404c-fcad-ce3cd579aa50"
      },
      "outputs": [
        {
          "output_type": "stream",
          "name": "stdout",
          "text": [
            "(8000, 1024) , (8000,)\n"
          ]
        }
      ],
      "source": [
        "print(f\"{x.shape} , {y.shape}\")"
      ]
    },
    {
      "cell_type": "code",
      "execution_count": null,
      "metadata": {
        "id": "HSVyH2Sf9evQ"
      },
      "outputs": [],
      "source": [
        "# Sigmoid activation function for hidden layers\n",
        "def sigmoid(z):\n",
        "    return 1 / (1 + np.exp(-z))\n",
        "\n",
        "# ReLU activation function for hidden layers\n",
        "def relu(z):\n",
        "    return np.maximum(0, z)"
      ]
    },
    {
      "cell_type": "code",
      "execution_count": null,
      "metadata": {
        "id": "yNjvtJuE9esW"
      },
      "outputs": [],
      "source": [
        "def sigmoid_derivative(A):\n",
        "    return A * (1 - A)\n",
        "\n",
        "def relu_derivative(z):\n",
        "    return (z > 0).astype(int)"
      ]
    },
    {
      "cell_type": "code",
      "execution_count": null,
      "metadata": {
        "id": "5dkz7gVm9epl"
      },
      "outputs": [],
      "source": [
        "# Softmax activation function for the output layer (multi-class)\n",
        "def softmax(x):\n",
        "    exp_x = np.exp(x - np.max(x, axis=0, keepdims=True))  # Stability improvement\n",
        "    return exp_x / np.sum(exp_x, axis=0, keepdims=True)"
      ]
    },
    {
      "cell_type": "code",
      "execution_count": null,
      "metadata": {
        "id": "aJA3-MwS9emc"
      },
      "outputs": [],
      "source": [
        "def random_parameters(layers):\n",
        "    parameters = {}\n",
        "    for i in range(1, len(layers)):\n",
        "        # He initialization for ReLU\n",
        "        parameters[f\"w{i}\"] = np.random.randn(layers[i], layers[i-1]) * np.sqrt(2. / layers[i-1])\n",
        "        parameters[f\"b{i}\"] = np.zeros((layers[i], 1))\n",
        "    return parameters\n"
      ]
    },
    {
      "cell_type": "code",
      "execution_count": null,
      "metadata": {
        "id": "B6VzswSg9ejR"
      },
      "outputs": [],
      "source": [
        "# Forward propagation\n",
        "def forward(x, parameters, layers):\n",
        "    cache = {\"A0\": x}\n",
        "    for i in range(1, len(layers)):\n",
        "        w = parameters[f\"w{i}\"]\n",
        "        b = parameters[f\"b{i}\"]\n",
        "        A_prev = cache[f\"A{i-1}\"]\n",
        "        z = np.dot(w, A_prev) + b  # Linear transformation\n",
        "        # Apply ReLU for hidden layers, Softmax for the output layer (multi-class)\n",
        "        A = relu(z) if i < len(layers) - 1 else softmax(z)  # Use softmax for multi-class output\n",
        "        cache[f\"z{i}\"] = z\n",
        "        cache[f\"A{i}\"] = A\n",
        "    return cache\n",
        "\n"
      ]
    },
    {
      "cell_type": "code",
      "execution_count": null,
      "metadata": {
        "id": "yzdTvVgf9egp"
      },
      "outputs": [],
      "source": [
        "# Backward propagation\n",
        "def backward(x, y, parameters, cache, layers):\n",
        "    grads = {}\n",
        "    m = x.shape[1]\n",
        "    A_final = cache[f\"A{len(layers)-1}\"]\n",
        "\n",
        "    # Compute dA for the output layer (categorical cross-entropy derivative)\n",
        "    dA = A_final - y  # Derivative of softmax + cross-entropy\n",
        "\n",
        "    for i in reversed(range(1, len(layers))):\n",
        "        A_prev = cache[f\"A{i-1}\"]\n",
        "        z = cache[f\"z{i}\"]\n",
        "\n",
        "        # Output layer (softmax for multi-class classification)\n",
        "        if i == len(layers) - 1:\n",
        "            dz = dA  # No need to apply softmax derivative separately\n",
        "\n",
        "        # Hidden layers (ReLU)\n",
        "        else:\n",
        "            dz = dA * (z > 0).astype(int)  # ReLU derivative\n",
        "\n",
        "        # Compute gradients for weights and biases\n",
        "        grads[f\"dw{i}\"] = np.dot(dz, A_prev.T) / m\n",
        "        grads[f\"db{i}\"] = np.sum(dz, axis=1, keepdims=True) / m\n",
        "\n",
        "        # Backpropagate the error to the previous layer\n",
        "        dA = np.dot(parameters[f\"w{i}\"].T, dz)\n",
        "\n",
        "    return grads\n"
      ]
    },
    {
      "cell_type": "code",
      "execution_count": null,
      "metadata": {
        "id": "LWTNQFHt9edZ"
      },
      "outputs": [],
      "source": [
        "# Prediction function\n",
        "def predict(X, parameters, layers):\n",
        "    cache = forward(X, parameters, layers)\n",
        "    A_final = cache[f\"A{len(layers)-1}\"]\n",
        "    predictions = np.argmax(A_final, axis=0)  # Get the index of the max probability for each sample\n",
        "    return predictions\n"
      ]
    },
    {
      "cell_type": "code",
      "execution_count": null,
      "metadata": {
        "id": "Hnfi3kbI9ea1"
      },
      "outputs": [],
      "source": [
        "# Train the neural network\n",
        "def train_neural_network(X, y, layers, epochs, learning_rate):\n",
        "    parameters = random_parameters(layers)\n",
        "    losses = []\n",
        "\n",
        "    for epoch in range(epochs):\n",
        "        # Forward pass\n",
        "        cache = forward(X, parameters, layers)\n",
        "\n",
        "        # Backward pass\n",
        "        grads = backward(X, y, parameters, cache, layers)\n",
        "\n",
        "        # Update parameters using gradient descent\n",
        "        for i in range(1, len(layers)):\n",
        "            parameters[f\"w{i}\"] -= learning_rate * grads[f\"dw{i}\"]\n",
        "            parameters[f\"b{i}\"] -= learning_rate * grads[f\"db{i}\"]\n",
        "\n",
        "        # Calculate categorical cross-entropy loss\n",
        "        A_final = cache[f\"A{len(layers)-1}\"]\n",
        "        loss = -np.mean(np.sum(y * np.log(A_final + 1e-9), axis=0))  # Categorical cross-entropy loss\n",
        "        losses.append(loss)\n",
        "\n",
        "        # Print the loss every 100 epochs\n",
        "        if epoch % 100 == 0:\n",
        "            print(f\"Epoch {epoch}, Loss: {loss:.4f}\")\n",
        "\n",
        "    return parameters, losses\n",
        "\n"
      ]
    },
    {
      "cell_type": "code",
      "source": [
        "# Set the layers and other hyperparameters\n",
        "layers = [X.shape[0],  10, num_classes]  # Example: 64 units in the first hidden layer, 32 in the second, 10 classes in the output layer\n",
        "\n",
        "# Train the neural network\n",
        "parameters, losses = train_neural_network(X, Y, layers, epochs=5000, learning_rate=0.0001)\n",
        "\n",
        "# Print final loss\n",
        "print(f\"Final Loss after 1000 epochs: {losses[-1]:.4f}\")\n"
      ],
      "metadata": {
        "colab": {
          "base_uri": "https://localhost:8080/"
        },
        "id": "vU-ecNNFTlM8",
        "outputId": "e088cc6a-b8cf-4d68-8fd7-9c0a8199fc00"
      },
      "execution_count": null,
      "outputs": [
        {
          "output_type": "stream",
          "name": "stdout",
          "text": [
            "Epoch 0, Loss: 2.7685\n",
            "Epoch 100, Loss: 2.6952\n",
            "Epoch 200, Loss: 2.6457\n",
            "Epoch 300, Loss: 2.6106\n",
            "Epoch 400, Loss: 2.5838\n",
            "Epoch 500, Loss: 2.5619\n",
            "Epoch 600, Loss: 2.5434\n",
            "Epoch 700, Loss: 2.5272\n",
            "Epoch 800, Loss: 2.5128\n",
            "Epoch 900, Loss: 2.4996\n",
            "Epoch 1000, Loss: 2.4875\n",
            "Epoch 1100, Loss: 2.4763\n",
            "Epoch 1200, Loss: 2.4658\n",
            "Epoch 1300, Loss: 2.4561\n",
            "Epoch 1400, Loss: 2.4470\n",
            "Epoch 1500, Loss: 2.4384\n",
            "Epoch 1600, Loss: 2.4302\n",
            "Epoch 1700, Loss: 2.4224\n",
            "Epoch 1800, Loss: 2.4150\n",
            "Epoch 1900, Loss: 2.4080\n",
            "Epoch 2000, Loss: 2.4013\n",
            "Epoch 2100, Loss: 2.3948\n",
            "Epoch 2200, Loss: 2.3887\n",
            "Epoch 2300, Loss: 2.3829\n",
            "Epoch 2400, Loss: 2.3772\n",
            "Epoch 2500, Loss: 2.3719\n",
            "Epoch 2600, Loss: 2.3667\n",
            "Epoch 2700, Loss: 2.3617\n",
            "Epoch 2800, Loss: 2.3569\n",
            "Epoch 2900, Loss: 2.3522\n",
            "Epoch 3000, Loss: 2.3477\n",
            "Epoch 3100, Loss: 2.3434\n",
            "Epoch 3200, Loss: 2.3391\n",
            "Epoch 3300, Loss: 2.3351\n",
            "Epoch 3400, Loss: 2.3311\n",
            "Epoch 3500, Loss: 2.3274\n",
            "Epoch 3600, Loss: 2.3237\n",
            "Epoch 3700, Loss: 2.3201\n",
            "Epoch 3800, Loss: 2.3166\n",
            "Epoch 3900, Loss: 2.3132\n",
            "Epoch 4000, Loss: 2.3099\n",
            "Epoch 4100, Loss: 2.3066\n",
            "Epoch 4200, Loss: 2.3035\n",
            "Epoch 4300, Loss: 2.3005\n",
            "Epoch 4400, Loss: 2.2974\n",
            "Epoch 4500, Loss: 2.2945\n",
            "Epoch 4600, Loss: 2.2916\n",
            "Epoch 4700, Loss: 2.2887\n",
            "Epoch 4800, Loss: 2.2860\n",
            "Epoch 4900, Loss: 2.2832\n",
            "Final Loss after 1000 epochs: 2.2806\n"
          ]
        }
      ]
    },
    {
      "cell_type": "code",
      "source": [
        "y_pred = predict(X, parameters, layers)\n",
        "y_true = np.argmax(y_one_hot.T, axis=0)  # Should result in a 1D array of shape (num_samples,)\n",
        "print(y_true.shape)\n",
        "print(y.shape)"
      ],
      "metadata": {
        "id": "H8GCrDrHcYvj",
        "colab": {
          "base_uri": "https://localhost:8080/"
        },
        "outputId": "4c588433-0585-45b3-b7e8-07eb24cc3e04"
      },
      "execution_count": null,
      "outputs": [
        {
          "output_type": "stream",
          "name": "stdout",
          "text": [
            "(8000,)\n",
            "(8000,)\n"
          ]
        }
      ]
    },
    {
      "cell_type": "code",
      "source": [
        "print(y_pred[:10])\n",
        "print(y_true[:10])"
      ],
      "metadata": {
        "colab": {
          "base_uri": "https://localhost:8080/"
        },
        "id": "eL6J9zuQbgkj",
        "outputId": "8ebbe582-7c1b-4f43-b47e-65259f25cf45"
      },
      "execution_count": null,
      "outputs": [
        {
          "output_type": "stream",
          "name": "stdout",
          "text": [
            "[9 6 4 4 4 9 4 9 2 2]\n",
            "[4 8 4 7 4 9 8 7 7 2]\n"
          ]
        }
      ]
    },
    {
      "cell_type": "code",
      "execution_count": null,
      "metadata": {
        "id": "ORROSst8AZ8E"
      },
      "outputs": [],
      "source": [
        "import numpy as np\n",
        "\n",
        "def f1_score(y_true, y_pred):\n",
        "\n",
        "    # Convert predicted probabilities to class labels (argmax)\n",
        "    y_pred_labels = np.argmax(y_pred, axis=0)\n",
        "    y_true_labels = np.argmax(y_true, axis=0)\n",
        "\n",
        "    # Calculate true positives, false positives, and false negatives\n",
        "    tp = np.sum((y_true_labels == 1) & (y_pred_labels == 1))\n",
        "    fp = np.sum((y_true_labels == 0) & (y_pred_labels == 1))\n",
        "    fn = np.sum((y_true_labels == 1) & (y_pred_labels == 0))\n",
        "\n",
        "    # Calculate precision, recall, and F1 score\n",
        "    precision = tp / (tp + fp) if (tp + fp) > 0 else 0\n",
        "    recall = tp / (tp + fn) if (tp + fn) > 0 else 0\n",
        "    f1 = 2 * (precision * recall) / (precision + recall) if (precision + recall) > 0 else 0\n",
        "\n",
        "    return f1, precision, recall\n"
      ]
    },
    {
      "cell_type": "code",
      "source": [
        "f1, precision, recall = f1_score(y_true, y_pred)\n",
        "\n",
        "print(f\"F1 Score: {f1:.4f}\")\n",
        "print(f\"Precision: {precision:.4f}\")\n",
        "print(f\"Recall: {recall:.4f}\")"
      ],
      "metadata": {
        "colab": {
          "base_uri": "https://localhost:8080/"
        },
        "id": "qvHmpSW2anIS",
        "outputId": "5a1bb689-f440-4024-d485-0d9ff0d0cb45"
      },
      "execution_count": null,
      "outputs": [
        {
          "output_type": "stream",
          "name": "stdout",
          "text": [
            "F1 Score: 0.0000\n",
            "Precision: 0.0000\n",
            "Recall: 0.0000\n"
          ]
        }
      ]
    },
    {
      "cell_type": "code",
      "source": [
        "y_pred = predict(X, parameters, layers)  # Predictions from the model\n",
        "y_pred_labels = np.argmax(y_pred, axis=0)  # Convert to class labels\n",
        "print(\"Unique predictions:\", np.unique(y_pred_labels))  # Should show a variety of classes, not just one\n"
      ],
      "metadata": {
        "colab": {
          "base_uri": "https://localhost:8080/"
        },
        "id": "8LePuFcOd2Nz",
        "outputId": "481ae110-67a3-4352-cb4c-aa16cf6e2c1d"
      },
      "execution_count": null,
      "outputs": [
        {
          "output_type": "stream",
          "name": "stdout",
          "text": [
            "Unique predictions: [23]\n"
          ]
        }
      ]
    },
    {
      "cell_type": "code",
      "execution_count": null,
      "metadata": {
        "colab": {
          "base_uri": "https://localhost:8080/"
        },
        "id": "4z68u6pi9eXb",
        "outputId": "de03a7bd-3aa8-4bdb-a020-2821b1ffb16f"
      },
      "outputs": [
        {
          "output_type": "execute_result",
          "data": {
            "text/plain": [
              "(8000, 1024)"
            ]
          },
          "metadata": {},
          "execution_count": 33
        }
      ],
      "source": [
        "x.shape"
      ]
    },
    {
      "cell_type": "code",
      "execution_count": null,
      "metadata": {
        "id": "2dXDgcjq9ePC",
        "colab": {
          "base_uri": "https://localhost:8080/",
          "height": 472
        },
        "outputId": "90fb2d49-6f43-40d2-a0d2-f766d7654d82"
      },
      "outputs": [
        {
          "output_type": "display_data",
          "data": {
            "text/plain": [
              "<Figure size 640x480 with 1 Axes>"
            ],
            "image/png": "[encoded data removed]"
          },
          "metadata": {}
        }
      ],
      "source": [
        "# Plot the learning curve (loss vs epochs)\n",
        "plt.plot(losses)\n",
        "plt.title(\"Learning Curve\")\n",
        "plt.xlabel(\"Epochs\")\n",
        "plt.ylabel(\"Loss\")\n",
        "plt.show()\n"
      ]
    },
    {
      "cell_type": "code",
      "execution_count": null,
      "metadata": {
        "id": "pgsFo1Jb9dsi"
      },
      "outputs": [],
      "source": [
        "import numpy as np\n",
        "\n",
        "def evaluate_metrics(y_true, y_pred, num_classes):\n",
        "    def precision(y_true, y_pred, num_classes):\n",
        "        precision_scores = []\n",
        "        for i in range(num_classes):\n",
        "            true_positive = np.sum((y_pred == i) & (y_true == i))\n",
        "            false_positive = np.sum((y_pred == i) & (y_true != i))\n",
        "            precision_scores.append(true_positive / (true_positive + false_positive) if (true_positive + false_positive) > 0 else 0)\n",
        "        return np.mean(precision_scores)\n",
        "\n",
        "    def recall(y_true, y_pred, num_classes):\n",
        "        recall_scores = []\n",
        "        for i in range(num_classes):\n",
        "            true_positive = np.sum((y_pred == i) & (y_true == i))\n",
        "            false_negative = np.sum((y_pred != i) & (y_true == i))\n",
        "            recall_scores.append(true_positive / (true_positive + false_negative) if (true_positive + false_negative) > 0 else 0)\n",
        "        return np.mean(recall_scores)\n",
        "\n",
        "    def f1_score(y_true, y_pred, num_classes):\n",
        "        precision_val = precision(y_true, y_pred, num_classes)\n",
        "        recall_val = recall(y_true, y_pred, num_classes)\n",
        "        return 2 * (precision_val * recall_val) / (precision_val + recall_val) if (precision_val + recall_val) > 0 else 0\n",
        "\n",
        "    # Calculate metrics\n",
        "    precision_val = precision(y_true, y_pred, num_classes)\n",
        "    recall_val = recall(y_true, y_pred, num_classes)\n",
        "    f1_val = f1_score(y_true, y_pred, num_classes)\n",
        "\n",
        "    return precision_val, recall_val, f1_val\n",
        "\n",
        "# Assuming y_true and y_pred are the true labels and predictions\n",
        "y_true = np.argmax(y.T, axis=0)  # Convert one-hot encoded y to label format (0 to num_classes-1)\n",
        "y_pred = predict(X, parameters, layers)  # Your prediction function\n",
        "\n",
        "# Number of classes\n",
        "num_classes = len(np.unique(y))\n",
        "\n",
        "# Evaluate metrics\n",
        "precision_val, recall_val, f1_val = evaluate_metrics(y_true, y_pred, num_classes)\n",
        "\n",
        "# Print the metrics\n",
        "print(f\"Precision: {precision_val:.4f}\")\n",
        "print(f\"Recall: {recall_val:.4f}\")\n",
        "print(f\"F1 Score: {f1_val:.4f}\")\n"
      ]
    }
  ],
  "metadata": {
    "colab": {
      "provenance": [],
      "authorship_tag": "ABX9TyMm0Ov9JAimKUKFfSUTyWI8",
      "include_colab_link": true
    },
    "kernelspec": {
      "display_name": "Python 3",
      "name": "python3"
    },
    "language_info": {
      "name": "python"
    }
  },
  "nbformat": 4,
  "nbformat_minor": 0
}